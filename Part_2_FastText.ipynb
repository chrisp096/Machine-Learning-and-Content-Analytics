{
  "nbformat": 4,
  "nbformat_minor": 0,
  "metadata": {
    "colab": {
      "name": "Part_2_FastText.ipynb",
      "provenance": [],
      "collapsed_sections": []
    },
    "kernelspec": {
      "display_name": "Python 3",
      "language": "python",
      "name": "python3"
    },
    "language_info": {
      "codemirror_mode": {
        "name": "ipython",
        "version": 3
      },
      "file_extension": ".py",
      "mimetype": "text/x-python",
      "name": "python",
      "nbconvert_exporter": "python",
      "pygments_lexer": "ipython3",
      "version": "3.8.5"
    },
    "accelerator": "GPU"
  },
  "cells": [
    {
      "cell_type": "markdown",
      "metadata": {
        "id": "R8C9fI3uOoZp"
      },
      "source": [
        "* Installing fastText."
      ]
    },
    {
      "cell_type": "code",
      "metadata": {
        "colab": {
          "base_uri": "https://localhost:8080/"
        },
        "id": "eFP9d0NsOmxY",
        "outputId": "fc2a2681-ae9a-49fa-c8ab-4b0de0af35a2"
      },
      "source": [
        "pip install fasttext"
      ],
      "execution_count": null,
      "outputs": [
        {
          "output_type": "stream",
          "name": "stdout",
          "text": [
            "Collecting fasttext\n",
            "  Downloading fasttext-0.9.2.tar.gz (68 kB)\n",
            "\u001b[?25l\r\u001b[K     |████▊                           | 10 kB 28.2 MB/s eta 0:00:01\r\u001b[K     |█████████▌                      | 20 kB 22.5 MB/s eta 0:00:01\r\u001b[K     |██████████████▎                 | 30 kB 16.4 MB/s eta 0:00:01\r\u001b[K     |███████████████████             | 40 kB 14.3 MB/s eta 0:00:01\r\u001b[K     |███████████████████████▉        | 51 kB 5.4 MB/s eta 0:00:01\r\u001b[K     |████████████████████████████▋   | 61 kB 5.9 MB/s eta 0:00:01\r\u001b[K     |████████████████████████████████| 68 kB 3.3 MB/s \n",
            "\u001b[?25hCollecting pybind11>=2.2\n",
            "  Using cached pybind11-2.7.1-py2.py3-none-any.whl (200 kB)\n",
            "Requirement already satisfied: setuptools>=0.7.0 in /usr/local/lib/python3.7/dist-packages (from fasttext) (57.4.0)\n",
            "Requirement already satisfied: numpy in /usr/local/lib/python3.7/dist-packages (from fasttext) (1.19.5)\n",
            "Building wheels for collected packages: fasttext\n",
            "  Building wheel for fasttext (setup.py) ... \u001b[?25l\u001b[?25hdone\n",
            "  Created wheel for fasttext: filename=fasttext-0.9.2-cp37-cp37m-linux_x86_64.whl size=3093655 sha256=0a74b18517156d2d4eb3f790d0a96bd237180459421074ec5c50d99ce7dc2fcf\n",
            "  Stored in directory: /root/.cache/pip/wheels/4e/ca/bf/b020d2be95f7641801a6597a29c8f4f19e38f9c02a345bab9b\n",
            "Successfully built fasttext\n",
            "Installing collected packages: pybind11, fasttext\n",
            "Successfully installed fasttext-0.9.2 pybind11-2.7.1\n"
          ]
        }
      ]
    },
    {
      "cell_type": "markdown",
      "metadata": {
        "id": "utNNanVAPd8m"
      },
      "source": [
        "* Importing the necessary libraries."
      ]
    },
    {
      "cell_type": "code",
      "metadata": {
        "id": "ulQyXlQoWWyT"
      },
      "source": [
        "import json\n",
        "import pandas as pd\n",
        "import numpy as np\n",
        "import csv\n",
        "from collections import Counter\n",
        "from nltk.corpus import stopwords\n",
        "from itertools import filterfalse as ifilterfalse\n",
        "from sklearn.model_selection import train_test_split\n",
        "import re\n",
        "from time import time\n",
        "from tqdm import tqdm\n",
        "from gensim.utils import simple_preprocess\n",
        "import fasttext\n",
        "from itertools import cycle\n",
        "from typing import List, Tuple\n",
        "import matplotlib.pyplot as plt\n",
        "import seaborn as sns\n",
        "from scipy import interp\n",
        "from sklearn.metrics import confusion_matrix\n",
        "from sklearn.metrics import roc_curve, auc\n",
        "\n",
        "tqdm.pandas()"
      ],
      "execution_count": null,
      "outputs": []
    },
    {
      "cell_type": "markdown",
      "metadata": {
        "id": "D8B7m10yVc2L"
      },
      "source": [
        "<h1>FastText Argument<h1>"
      ]
    },
    {
      "cell_type": "markdown",
      "metadata": {
        "id": "G-55QjFcPkvy"
      },
      "source": [
        "* Loading the argument and dataset json files."
      ]
    },
    {
      "cell_type": "code",
      "metadata": {
        "id": "mNFeOId3ac62"
      },
      "source": [
        "label2id = {\n",
        "    'NEITHER': 0,\n",
        "    'EVIDENCE': 1,\n",
        "    'CLAIM': 2,\n",
        "    'NONE': 0\n",
        "}\n",
        "\n",
        "def load_corpus(path, label_mapping=None):\n",
        "    with open(path) as fp:\n",
        "        corpus = json.load(fp)\n",
        "\n",
        "    documents, texts, labels = [], [], []\n",
        "    for abstract in corpus:\n",
        "        documents.append(abstract)\n",
        "        texts.append(corpus[abstract]['sentences'])\n",
        "        if isinstance(label_mapping, dict):\n",
        "            labels.append(\n",
        "                [label_mapping[str(l).upper()]\n",
        "                    for l in corpus[abstract]['labels']])\n",
        "        else:\n",
        "            labels.append([str(l).upper() for l in corpus[abstract]['labels']])\n",
        "\n",
        "    assert len(texts) == len(labels)\n",
        "    data = pd.DataFrame(\n",
        "        zip(documents, texts, labels),\n",
        "        columns=['document', 'sentences', 'labels'])\n",
        "\n",
        "    return data"
      ],
      "execution_count": null,
      "outputs": []
    },
    {
      "cell_type": "markdown",
      "metadata": {
        "id": "FCOvFK6UTEx1"
      },
      "source": [
        "* Concatenating our two datasets."
      ]
    },
    {
      "cell_type": "code",
      "metadata": {
        "colab": {
          "base_uri": "https://localhost:8080/",
          "height": 193
        },
        "id": "XpE3qhiOSIqX",
        "outputId": "38f40bcd-91ad-4d30-b7e0-29bad1cc3b32"
      },
      "source": [
        "data1 = load_corpus('dataset_aueb_argument_v3.json' , label_mapping=label2id)\n",
        "print(f'Dataset 1 length: {len(data1)} abstracts')\n",
        "\n",
        "data2 = load_corpus('dataset.json' , label_mapping=label2id)\n",
        "print(f'Dataset 2 length: {len(data2)} abstracts')\n",
        "\n",
        "data = data1.append(data2)\n",
        "print(f'Dataset length: {len(data)} abstracts')\n",
        "data.head(3)"
      ],
      "execution_count": null,
      "outputs": [
        {
          "output_type": "stream",
          "name": "stdout",
          "text": [
            "Dataset 1 length: 1017 abstracts\n",
            "Dataset 2 length: 1669 abstracts\n",
            "Dataset length: 2686 abstracts\n"
          ]
        },
        {
          "output_type": "execute_result",
          "data": {
            "text/html": [
              "<div>\n",
              "<style scoped>\n",
              "    .dataframe tbody tr th:only-of-type {\n",
              "        vertical-align: middle;\n",
              "    }\n",
              "\n",
              "    .dataframe tbody tr th {\n",
              "        vertical-align: top;\n",
              "    }\n",
              "\n",
              "    .dataframe thead th {\n",
              "        text-align: right;\n",
              "    }\n",
              "</style>\n",
              "<table border=\"1\" class=\"dataframe\">\n",
              "  <thead>\n",
              "    <tr style=\"text-align: right;\">\n",
              "      <th></th>\n",
              "      <th>document</th>\n",
              "      <th>sentences</th>\n",
              "      <th>labels</th>\n",
              "    </tr>\n",
              "  </thead>\n",
              "  <tbody>\n",
              "    <tr>\n",
              "      <th>0</th>\n",
              "      <td>doi: 10.1001/jamaneurol.2017.2814</td>\n",
              "      <td>[Concordance Between Different Amyloid Immunoa...</td>\n",
              "      <td>[0, 0, 0, 0, 0, 0, 0, 0, 1, 1, 1, 1, 1, 1, 1, ...</td>\n",
              "    </tr>\n",
              "    <tr>\n",
              "      <th>1</th>\n",
              "      <td>doi: 10.1001/jamaneurol.2017.4913</td>\n",
              "      <td>[Association of Changes in Plasma Neurofilamen...</td>\n",
              "      <td>[0, 0, 0, 0, 0, 0, 0, 0, 1, 1, 1, 1, 1, 2, 2, 2]</td>\n",
              "    </tr>\n",
              "    <tr>\n",
              "      <th>2</th>\n",
              "      <td>doi: 10.1002/2015gl067056</td>\n",
              "      <td>[Dynamically triggered slip leading to sustain...</td>\n",
              "      <td>[0, 0, 0, 1, 1, 2]</td>\n",
              "    </tr>\n",
              "  </tbody>\n",
              "</table>\n",
              "</div>"
            ],
            "text/plain": [
              "                            document  ...                                             labels\n",
              "0  doi: 10.1001/jamaneurol.2017.2814  ...  [0, 0, 0, 0, 0, 0, 0, 0, 1, 1, 1, 1, 1, 1, 1, ...\n",
              "1  doi: 10.1001/jamaneurol.2017.4913  ...   [0, 0, 0, 0, 0, 0, 0, 0, 1, 1, 1, 1, 1, 2, 2, 2]\n",
              "2          doi: 10.1002/2015gl067056  ...                                 [0, 0, 0, 1, 1, 2]\n",
              "\n",
              "[3 rows x 3 columns]"
            ]
          },
          "metadata": {},
          "execution_count": 4
        }
      ]
    },
    {
      "cell_type": "markdown",
      "metadata": {
        "id": "wq37xfyHTD6o"
      },
      "source": [
        "* We split our abstracts to sentences and labels per row and then we combine them together."
      ]
    },
    {
      "cell_type": "code",
      "metadata": {
        "id": "i-jKQ5o8WTWj"
      },
      "source": [
        "sentences = data['sentences'].explode().reset_index().rename(\n",
        "    columns={'index': 'doc_id', 'sentences': 'sentence'})\n",
        "sentences.sentence = sentences.sentence.astype(\"string\")\n",
        "sentences.sentence = sentences.sentence.str.strip()"
      ],
      "execution_count": null,
      "outputs": []
    },
    {
      "cell_type": "code",
      "metadata": {
        "colab": {
          "base_uri": "https://localhost:8080/",
          "height": 419
        },
        "id": "Zd_m2surWTWl",
        "outputId": "d0f218db-8f23-4b11-8e72-ea40bd22cf86"
      },
      "source": [
        "labels = data['labels'].explode().reset_index().rename(\n",
        "    columns={'index': 'doc_id', 'labels': 'label'})\n",
        "labels"
      ],
      "execution_count": null,
      "outputs": [
        {
          "output_type": "execute_result",
          "data": {
            "text/html": [
              "<div>\n",
              "<style scoped>\n",
              "    .dataframe tbody tr th:only-of-type {\n",
              "        vertical-align: middle;\n",
              "    }\n",
              "\n",
              "    .dataframe tbody tr th {\n",
              "        vertical-align: top;\n",
              "    }\n",
              "\n",
              "    .dataframe thead th {\n",
              "        text-align: right;\n",
              "    }\n",
              "</style>\n",
              "<table border=\"1\" class=\"dataframe\">\n",
              "  <thead>\n",
              "    <tr style=\"text-align: right;\">\n",
              "      <th></th>\n",
              "      <th>doc_id</th>\n",
              "      <th>label</th>\n",
              "    </tr>\n",
              "  </thead>\n",
              "  <tbody>\n",
              "    <tr>\n",
              "      <th>0</th>\n",
              "      <td>0</td>\n",
              "      <td>0</td>\n",
              "    </tr>\n",
              "    <tr>\n",
              "      <th>1</th>\n",
              "      <td>0</td>\n",
              "      <td>0</td>\n",
              "    </tr>\n",
              "    <tr>\n",
              "      <th>2</th>\n",
              "      <td>0</td>\n",
              "      <td>0</td>\n",
              "    </tr>\n",
              "    <tr>\n",
              "      <th>3</th>\n",
              "      <td>0</td>\n",
              "      <td>0</td>\n",
              "    </tr>\n",
              "    <tr>\n",
              "      <th>4</th>\n",
              "      <td>0</td>\n",
              "      <td>0</td>\n",
              "    </tr>\n",
              "    <tr>\n",
              "      <th>...</th>\n",
              "      <td>...</td>\n",
              "      <td>...</td>\n",
              "    </tr>\n",
              "    <tr>\n",
              "      <th>31999</th>\n",
              "      <td>1668</td>\n",
              "      <td>1</td>\n",
              "    </tr>\n",
              "    <tr>\n",
              "      <th>32000</th>\n",
              "      <td>1668</td>\n",
              "      <td>0</td>\n",
              "    </tr>\n",
              "    <tr>\n",
              "      <th>32001</th>\n",
              "      <td>1668</td>\n",
              "      <td>2</td>\n",
              "    </tr>\n",
              "    <tr>\n",
              "      <th>32002</th>\n",
              "      <td>1668</td>\n",
              "      <td>2</td>\n",
              "    </tr>\n",
              "    <tr>\n",
              "      <th>32003</th>\n",
              "      <td>1668</td>\n",
              "      <td>2</td>\n",
              "    </tr>\n",
              "  </tbody>\n",
              "</table>\n",
              "<p>32004 rows × 2 columns</p>\n",
              "</div>"
            ],
            "text/plain": [
              "       doc_id label\n",
              "0           0     0\n",
              "1           0     0\n",
              "2           0     0\n",
              "3           0     0\n",
              "4           0     0\n",
              "...       ...   ...\n",
              "31999    1668     1\n",
              "32000    1668     0\n",
              "32001    1668     2\n",
              "32002    1668     2\n",
              "32003    1668     2\n",
              "\n",
              "[32004 rows x 2 columns]"
            ]
          },
          "metadata": {},
          "execution_count": 6
        }
      ]
    },
    {
      "cell_type": "markdown",
      "metadata": {
        "id": "Pqkm0zpqszzh"
      },
      "source": [
        "* Create a dataframe with split sentences and labels."
      ]
    },
    {
      "cell_type": "code",
      "metadata": {
        "colab": {
          "base_uri": "https://localhost:8080/",
          "height": 221
        },
        "id": "jDhvXIpkszMI",
        "outputId": "46e95300-6a9a-49b3-f39d-7fab19548c79"
      },
      "source": [
        "merged_data = pd.concat([sentences,labels['label']], axis = 1)\n",
        "print(merged_data.shape)\n",
        "merged_data.sample(5)"
      ],
      "execution_count": null,
      "outputs": [
        {
          "output_type": "stream",
          "name": "stdout",
          "text": [
            "(32004, 3)\n"
          ]
        },
        {
          "output_type": "execute_result",
          "data": {
            "text/html": [
              "<div>\n",
              "<style scoped>\n",
              "    .dataframe tbody tr th:only-of-type {\n",
              "        vertical-align: middle;\n",
              "    }\n",
              "\n",
              "    .dataframe tbody tr th {\n",
              "        vertical-align: top;\n",
              "    }\n",
              "\n",
              "    .dataframe thead th {\n",
              "        text-align: right;\n",
              "    }\n",
              "</style>\n",
              "<table border=\"1\" class=\"dataframe\">\n",
              "  <thead>\n",
              "    <tr style=\"text-align: right;\">\n",
              "      <th></th>\n",
              "      <th>doc_id</th>\n",
              "      <th>sentence</th>\n",
              "      <th>label</th>\n",
              "    </tr>\n",
              "  </thead>\n",
              "  <tbody>\n",
              "    <tr>\n",
              "      <th>20059</th>\n",
              "      <td>731</td>\n",
              "      <td>I synthesized published studies in order to es...</td>\n",
              "      <td>0</td>\n",
              "    </tr>\n",
              "    <tr>\n",
              "      <th>28011</th>\n",
              "      <td>1369</td>\n",
              "      <td>Despite higher rates of some adverse effects (...</td>\n",
              "      <td>2</td>\n",
              "    </tr>\n",
              "    <tr>\n",
              "      <th>15276</th>\n",
              "      <td>346</td>\n",
              "      <td>Three studies reported a benefit of training a...</td>\n",
              "      <td>1</td>\n",
              "    </tr>\n",
              "    <tr>\n",
              "      <th>2429</th>\n",
              "      <td>253</td>\n",
              "      <td>Lipoproteins as targets and markers of lipoxid...</td>\n",
              "      <td>0</td>\n",
              "    </tr>\n",
              "    <tr>\n",
              "      <th>9070</th>\n",
              "      <td>914</td>\n",
              "      <td>Results showed that not only complex morpholog...</td>\n",
              "      <td>0</td>\n",
              "    </tr>\n",
              "  </tbody>\n",
              "</table>\n",
              "</div>"
            ],
            "text/plain": [
              "       doc_id                                           sentence label\n",
              "20059     731  I synthesized published studies in order to es...     0\n",
              "28011    1369  Despite higher rates of some adverse effects (...     2\n",
              "15276     346  Three studies reported a benefit of training a...     1\n",
              "2429      253  Lipoproteins as targets and markers of lipoxid...     0\n",
              "9070      914  Results showed that not only complex morpholog...     0"
            ]
          },
          "metadata": {},
          "execution_count": 7
        }
      ]
    },
    {
      "cell_type": "markdown",
      "metadata": {
        "id": "DvNV6IEctl49"
      },
      "source": [
        "* Now let's see if we have any duplicate rows."
      ]
    },
    {
      "cell_type": "code",
      "metadata": {
        "colab": {
          "base_uri": "https://localhost:8080/"
        },
        "id": "A8SrDeLatlM_",
        "outputId": "2e9e1707-14a7-406e-ac2c-0016c8cb8f98"
      },
      "source": [
        "merged_data['sentence'].duplicated().any()"
      ],
      "execution_count": null,
      "outputs": [
        {
          "output_type": "execute_result",
          "data": {
            "text/plain": [
              "True"
            ]
          },
          "metadata": {},
          "execution_count": 8
        }
      ]
    },
    {
      "cell_type": "markdown",
      "metadata": {
        "id": "TCt0SbrKtqDK"
      },
      "source": [
        "* We have duplicates so let's remove them."
      ]
    },
    {
      "cell_type": "code",
      "metadata": {
        "colab": {
          "base_uri": "https://localhost:8080/"
        },
        "id": "v7WzGDlUtqte",
        "outputId": "98aa28f4-919b-4c96-d036-ff91aad94097"
      },
      "source": [
        "print('Shape before removing duplicates: ', merged_data.shape)\n",
        "a = merged_data.shape[0]\n",
        "merged_data.drop_duplicates(subset=['sentence'], inplace=True)\n",
        "print('Shape after removing duplicates: ', merged_data.shape)\n",
        "print('Rows Removed: ', a - merged_data.shape[0])\n",
        "\n",
        "merged_data.reset_index(drop=True, inplace = True)"
      ],
      "execution_count": null,
      "outputs": [
        {
          "output_type": "stream",
          "name": "stdout",
          "text": [
            "Shape before removing duplicates:  (32004, 3)\n",
            "Shape after removing duplicates:  (31008, 3)\n",
            "Rows Removed:  996\n"
          ]
        }
      ]
    },
    {
      "cell_type": "markdown",
      "metadata": {
        "id": "zezCJshpupoR"
      },
      "source": [
        "* Let's have a look at our dataset."
      ]
    },
    {
      "cell_type": "code",
      "metadata": {
        "colab": {
          "base_uri": "https://localhost:8080/",
          "height": 419
        },
        "id": "sHcwnGsCujf2",
        "outputId": "32f9c1b1-d194-4bf6-b54c-c21bc099564b"
      },
      "source": [
        "merged_data"
      ],
      "execution_count": null,
      "outputs": [
        {
          "output_type": "execute_result",
          "data": {
            "text/html": [
              "<div>\n",
              "<style scoped>\n",
              "    .dataframe tbody tr th:only-of-type {\n",
              "        vertical-align: middle;\n",
              "    }\n",
              "\n",
              "    .dataframe tbody tr th {\n",
              "        vertical-align: top;\n",
              "    }\n",
              "\n",
              "    .dataframe thead th {\n",
              "        text-align: right;\n",
              "    }\n",
              "</style>\n",
              "<table border=\"1\" class=\"dataframe\">\n",
              "  <thead>\n",
              "    <tr style=\"text-align: right;\">\n",
              "      <th></th>\n",
              "      <th>doc_id</th>\n",
              "      <th>sentence</th>\n",
              "      <th>label</th>\n",
              "    </tr>\n",
              "  </thead>\n",
              "  <tbody>\n",
              "    <tr>\n",
              "      <th>0</th>\n",
              "      <td>0</td>\n",
              "      <td>Concordance Between Different Amyloid Immunoas...</td>\n",
              "      <td>0</td>\n",
              "    </tr>\n",
              "    <tr>\n",
              "      <th>1</th>\n",
              "      <td>0</td>\n",
              "      <td>Importance Visual assessment of amyloid positr...</td>\n",
              "      <td>0</td>\n",
              "    </tr>\n",
              "    <tr>\n",
              "      <th>2</th>\n",
              "      <td>0</td>\n",
              "      <td>Several immunoassays have been developed to me...</td>\n",
              "      <td>0</td>\n",
              "    </tr>\n",
              "    <tr>\n",
              "      <th>3</th>\n",
              "      <td>0</td>\n",
              "      <td>The agreement between CSF Aβ42 measures from d...</td>\n",
              "      <td>0</td>\n",
              "    </tr>\n",
              "    <tr>\n",
              "      <th>4</th>\n",
              "      <td>0</td>\n",
              "      <td>Objective To determine the concordance between...</td>\n",
              "      <td>0</td>\n",
              "    </tr>\n",
              "    <tr>\n",
              "      <th>...</th>\n",
              "      <td>...</td>\n",
              "      <td>...</td>\n",
              "      <td>...</td>\n",
              "    </tr>\n",
              "    <tr>\n",
              "      <th>31003</th>\n",
              "      <td>1668</td>\n",
              "      <td>No statistically significant difference in con...</td>\n",
              "      <td>1</td>\n",
              "    </tr>\n",
              "    <tr>\n",
              "      <th>31004</th>\n",
              "      <td>1668</td>\n",
              "      <td>Latanoprost 0.005% once daily reduced IOP more...</td>\n",
              "      <td>0</td>\n",
              "    </tr>\n",
              "    <tr>\n",
              "      <th>31005</th>\n",
              "      <td>1668</td>\n",
              "      <td>Latanoprost had no statistically or clinically...</td>\n",
              "      <td>2</td>\n",
              "    </tr>\n",
              "    <tr>\n",
              "      <th>31006</th>\n",
              "      <td>1668</td>\n",
              "      <td>There was no difference in hyperemia between t...</td>\n",
              "      <td>2</td>\n",
              "    </tr>\n",
              "    <tr>\n",
              "      <th>31007</th>\n",
              "      <td>1668</td>\n",
              "      <td>Both concentrations of latanoprost reduced IOP...</td>\n",
              "      <td>2</td>\n",
              "    </tr>\n",
              "  </tbody>\n",
              "</table>\n",
              "<p>31008 rows × 3 columns</p>\n",
              "</div>"
            ],
            "text/plain": [
              "       doc_id                                           sentence label\n",
              "0           0  Concordance Between Different Amyloid Immunoas...     0\n",
              "1           0  Importance Visual assessment of amyloid positr...     0\n",
              "2           0  Several immunoassays have been developed to me...     0\n",
              "3           0  The agreement between CSF Aβ42 measures from d...     0\n",
              "4           0  Objective To determine the concordance between...     0\n",
              "...       ...                                                ...   ...\n",
              "31003    1668  No statistically significant difference in con...     1\n",
              "31004    1668  Latanoprost 0.005% once daily reduced IOP more...     0\n",
              "31005    1668  Latanoprost had no statistically or clinically...     2\n",
              "31006    1668  There was no difference in hyperemia between t...     2\n",
              "31007    1668  Both concentrations of latanoprost reduced IOP...     2\n",
              "\n",
              "[31008 rows x 3 columns]"
            ]
          },
          "metadata": {},
          "execution_count": 10
        }
      ]
    },
    {
      "cell_type": "markdown",
      "metadata": {
        "id": "Rr2IwCc8E_eA"
      },
      "source": [
        "* Here, we split our dataset into train, test and validation."
      ]
    },
    {
      "cell_type": "code",
      "metadata": {
        "id": "PD_KzR0i2x2s"
      },
      "source": [
        "X_train, X_test, y_train, y_test = train_test_split(merged_data[\"sentence\"],\n",
        "                                                    merged_data['label'],\n",
        "                                                    test_size=0.20,\n",
        "                                                    random_state=42,\n",
        "                                                    stratify=merged_data['label'])\n",
        "\n",
        "X_train, X_val, y_train, y_val = train_test_split(X_train, y_train, test_size=0.25, random_state=1)"
      ],
      "execution_count": null,
      "outputs": []
    },
    {
      "cell_type": "code",
      "metadata": {
        "colab": {
          "base_uri": "https://localhost:8080/"
        },
        "id": "r5Hel_j2g4jI",
        "outputId": "f961654e-2687-4e04-c046-eed09a49181f"
      },
      "source": [
        "len(y_train), len(y_test), len(y_val)"
      ],
      "execution_count": null,
      "outputs": [
        {
          "output_type": "execute_result",
          "data": {
            "text/plain": [
              "(18604, 6202, 6202)"
            ]
          },
          "metadata": {},
          "execution_count": 12
        }
      ]
    },
    {
      "cell_type": "markdown",
      "metadata": {
        "id": "ZTA27E3jcam_"
      },
      "source": [
        "* Here, we can see the percentages of examples in each class for our training, test and validation dataset with stratification."
      ]
    },
    {
      "cell_type": "code",
      "metadata": {
        "colab": {
          "base_uri": "https://localhost:8080/"
        },
        "id": "xbQpIKFhkJj8",
        "outputId": "1202c191-7912-43a4-80cf-9e1c5a05ada0"
      },
      "source": [
        "round(y_train.value_counts() / len(y_train) * 100, 2)"
      ],
      "execution_count": null,
      "outputs": [
        {
          "output_type": "execute_result",
          "data": {
            "text/plain": [
              "0    69.18\n",
              "1    19.94\n",
              "2    10.88\n",
              "Name: label, dtype: float64"
            ]
          },
          "metadata": {},
          "execution_count": 13
        }
      ]
    },
    {
      "cell_type": "code",
      "metadata": {
        "colab": {
          "base_uri": "https://localhost:8080/"
        },
        "id": "KxaIn5uokWud",
        "outputId": "b596b8ad-1937-4f8c-87b1-a3205ceb40be"
      },
      "source": [
        "round(y_test.value_counts() / len(y_test) * 100, 2)"
      ],
      "execution_count": null,
      "outputs": [
        {
          "output_type": "execute_result",
          "data": {
            "text/plain": [
              "0    69.11\n",
              "1    19.91\n",
              "2    10.98\n",
              "Name: label, dtype: float64"
            ]
          },
          "metadata": {},
          "execution_count": 14
        }
      ]
    },
    {
      "cell_type": "code",
      "metadata": {
        "colab": {
          "base_uri": "https://localhost:8080/"
        },
        "id": "k4twgG0HhZP5",
        "outputId": "3508cde0-1551-4fb3-8c9d-72cc7849c4c2"
      },
      "source": [
        "round(y_val.value_counts() / len(y_val) * 100, 2)"
      ],
      "execution_count": null,
      "outputs": [
        {
          "output_type": "execute_result",
          "data": {
            "text/plain": [
              "0    68.86\n",
              "1    19.86\n",
              "2    11.27\n",
              "Name: label, dtype: float64"
            ]
          },
          "metadata": {},
          "execution_count": 15
        }
      ]
    },
    {
      "cell_type": "markdown",
      "metadata": {
        "id": "A_Kwxmn2xB9d"
      },
      "source": [
        "* Create a dataframe with the train's X & y labels."
      ]
    },
    {
      "cell_type": "code",
      "metadata": {
        "colab": {
          "base_uri": "https://localhost:8080/",
          "height": 419
        },
        "id": "dnWvzhaOWTWq",
        "outputId": "3ce61993-0514-4578-f06d-1b8d9822eeb8"
      },
      "source": [
        "#train dataset\n",
        "df = pd.DataFrame(X_train)\n",
        "df.columns = ['sentence']\n",
        "df[\"label\"] = y_train\n",
        "df"
      ],
      "execution_count": null,
      "outputs": [
        {
          "output_type": "execute_result",
          "data": {
            "text/html": [
              "<div>\n",
              "<style scoped>\n",
              "    .dataframe tbody tr th:only-of-type {\n",
              "        vertical-align: middle;\n",
              "    }\n",
              "\n",
              "    .dataframe tbody tr th {\n",
              "        vertical-align: top;\n",
              "    }\n",
              "\n",
              "    .dataframe thead th {\n",
              "        text-align: right;\n",
              "    }\n",
              "</style>\n",
              "<table border=\"1\" class=\"dataframe\">\n",
              "  <thead>\n",
              "    <tr style=\"text-align: right;\">\n",
              "      <th></th>\n",
              "      <th>sentence</th>\n",
              "      <th>label</th>\n",
              "    </tr>\n",
              "  </thead>\n",
              "  <tbody>\n",
              "    <tr>\n",
              "      <th>489</th>\n",
              "      <td>PGC‐1α (peroxisome proliferator‐activated rece...</td>\n",
              "      <td>0</td>\n",
              "    </tr>\n",
              "    <tr>\n",
              "      <th>7810</th>\n",
              "      <td>The VirMiner webserver is available at http://...</td>\n",
              "      <td>0</td>\n",
              "    </tr>\n",
              "    <tr>\n",
              "      <th>26009</th>\n",
              "      <td>Two hundred thirty-three lung cancer patients ...</td>\n",
              "      <td>0</td>\n",
              "    </tr>\n",
              "    <tr>\n",
              "      <th>20253</th>\n",
              "      <td>This study investigates how cross-level differ...</td>\n",
              "      <td>0</td>\n",
              "    </tr>\n",
              "    <tr>\n",
              "      <th>25701</th>\n",
              "      <td>Patients who received the TOF scheme had signi...</td>\n",
              "      <td>1</td>\n",
              "    </tr>\n",
              "    <tr>\n",
              "      <th>...</th>\n",
              "      <td>...</td>\n",
              "      <td>...</td>\n",
              "    </tr>\n",
              "    <tr>\n",
              "      <th>25379</th>\n",
              "      <td>Differences in chemotherapy scheduling, pre-ex...</td>\n",
              "      <td>0</td>\n",
              "    </tr>\n",
              "    <tr>\n",
              "      <th>10241</th>\n",
              "      <td>The impact of drought on the productivity of t...</td>\n",
              "      <td>0</td>\n",
              "    </tr>\n",
              "    <tr>\n",
              "      <th>18246</th>\n",
              "      <td>The asymmetric causal relationship between ren...</td>\n",
              "      <td>0</td>\n",
              "    </tr>\n",
              "    <tr>\n",
              "      <th>23092</th>\n",
              "      <td>Seated exercise may be a feasible exercise pro...</td>\n",
              "      <td>2</td>\n",
              "    </tr>\n",
              "    <tr>\n",
              "      <th>4586</th>\n",
              "      <td>We further examined the influence of outcome m...</td>\n",
              "      <td>0</td>\n",
              "    </tr>\n",
              "  </tbody>\n",
              "</table>\n",
              "<p>18604 rows × 2 columns</p>\n",
              "</div>"
            ],
            "text/plain": [
              "                                                sentence label\n",
              "489    PGC‐1α (peroxisome proliferator‐activated rece...     0\n",
              "7810   The VirMiner webserver is available at http://...     0\n",
              "26009  Two hundred thirty-three lung cancer patients ...     0\n",
              "20253  This study investigates how cross-level differ...     0\n",
              "25701  Patients who received the TOF scheme had signi...     1\n",
              "...                                                  ...   ...\n",
              "25379  Differences in chemotherapy scheduling, pre-ex...     0\n",
              "10241  The impact of drought on the productivity of t...     0\n",
              "18246  The asymmetric causal relationship between ren...     0\n",
              "23092  Seated exercise may be a feasible exercise pro...     2\n",
              "4586   We further examined the influence of outcome m...     0\n",
              "\n",
              "[18604 rows x 2 columns]"
            ]
          },
          "metadata": {},
          "execution_count": 16
        }
      ]
    },
    {
      "cell_type": "markdown",
      "metadata": {
        "id": "f33jVGESxKCL"
      },
      "source": [
        "* Create a dataframe with the test X & y labels."
      ]
    },
    {
      "cell_type": "code",
      "metadata": {
        "colab": {
          "base_uri": "https://localhost:8080/",
          "height": 419
        },
        "id": "vdSQS7q_WTWr",
        "outputId": "10d69da0-68cf-4a98-8de0-d7dd2a2b97ea"
      },
      "source": [
        "#test dataset\n",
        "ds = pd.DataFrame(X_test)\n",
        "ds.columns = ['sentence']\n",
        "ds[\"label\"] = y_test\n",
        "ds"
      ],
      "execution_count": null,
      "outputs": [
        {
          "output_type": "execute_result",
          "data": {
            "text/html": [
              "<div>\n",
              "<style scoped>\n",
              "    .dataframe tbody tr th:only-of-type {\n",
              "        vertical-align: middle;\n",
              "    }\n",
              "\n",
              "    .dataframe tbody tr th {\n",
              "        vertical-align: top;\n",
              "    }\n",
              "\n",
              "    .dataframe thead th {\n",
              "        text-align: right;\n",
              "    }\n",
              "</style>\n",
              "<table border=\"1\" class=\"dataframe\">\n",
              "  <thead>\n",
              "    <tr style=\"text-align: right;\">\n",
              "      <th></th>\n",
              "      <th>sentence</th>\n",
              "      <th>label</th>\n",
              "    </tr>\n",
              "  </thead>\n",
              "  <tbody>\n",
              "    <tr>\n",
              "      <th>19051</th>\n",
              "      <td>Our results introduce uncertainty into ecosyst...</td>\n",
              "      <td>2</td>\n",
              "    </tr>\n",
              "    <tr>\n",
              "      <th>18222</th>\n",
              "      <td>Lithuania has set targets to increase RES shar...</td>\n",
              "      <td>0</td>\n",
              "    </tr>\n",
              "    <tr>\n",
              "      <th>2657</th>\n",
              "      <td>Trials and the observational study were regist...</td>\n",
              "      <td>1</td>\n",
              "    </tr>\n",
              "    <tr>\n",
              "      <th>11782</th>\n",
              "      <td>qualitative study using an ethnographic approach.</td>\n",
              "      <td>0</td>\n",
              "    </tr>\n",
              "    <tr>\n",
              "      <th>25988</th>\n",
              "      <td>At 6 months after the end of RT, global HRQOL ...</td>\n",
              "      <td>1</td>\n",
              "    </tr>\n",
              "    <tr>\n",
              "      <th>...</th>\n",
              "      <td>...</td>\n",
              "      <td>...</td>\n",
              "    </tr>\n",
              "    <tr>\n",
              "      <th>3812</th>\n",
              "      <td>Differential transmission of Asian and African...</td>\n",
              "      <td>0</td>\n",
              "    </tr>\n",
              "    <tr>\n",
              "      <th>8756</th>\n",
              "      <td>To this end, four commonly used reference sche...</td>\n",
              "      <td>0</td>\n",
              "    </tr>\n",
              "    <tr>\n",
              "      <th>16917</th>\n",
              "      <td>Some re- searchers suggest falls as the most c...</td>\n",
              "      <td>0</td>\n",
              "    </tr>\n",
              "    <tr>\n",
              "      <th>16406</th>\n",
              "      <td>Distributed lag models with lags of 0-10, 0-20...</td>\n",
              "      <td>0</td>\n",
              "    </tr>\n",
              "    <tr>\n",
              "      <th>26244</th>\n",
              "      <td>Assessments were done at baseline, 9 weeks, an...</td>\n",
              "      <td>0</td>\n",
              "    </tr>\n",
              "  </tbody>\n",
              "</table>\n",
              "<p>6202 rows × 2 columns</p>\n",
              "</div>"
            ],
            "text/plain": [
              "                                                sentence label\n",
              "19051  Our results introduce uncertainty into ecosyst...     2\n",
              "18222  Lithuania has set targets to increase RES shar...     0\n",
              "2657   Trials and the observational study were regist...     1\n",
              "11782  qualitative study using an ethnographic approach.     0\n",
              "25988  At 6 months after the end of RT, global HRQOL ...     1\n",
              "...                                                  ...   ...\n",
              "3812   Differential transmission of Asian and African...     0\n",
              "8756   To this end, four commonly used reference sche...     0\n",
              "16917  Some re- searchers suggest falls as the most c...     0\n",
              "16406  Distributed lag models with lags of 0-10, 0-20...     0\n",
              "26244  Assessments were done at baseline, 9 weeks, an...     0\n",
              "\n",
              "[6202 rows x 2 columns]"
            ]
          },
          "metadata": {},
          "execution_count": 17
        }
      ]
    },
    {
      "cell_type": "markdown",
      "metadata": {
        "id": "xYynkLswkQu5"
      },
      "source": [
        "* Create a dataframe with the validation X & y labels."
      ]
    },
    {
      "cell_type": "code",
      "metadata": {
        "colab": {
          "base_uri": "https://localhost:8080/",
          "height": 419
        },
        "id": "CoSgBFoWiWcd",
        "outputId": "a0650334-1897-4210-f3d8-c94888660a0d"
      },
      "source": [
        "#valid dataset\n",
        "dv = pd.DataFrame(X_val)\n",
        "dv.columns = ['sentence']\n",
        "dv[\"label\"] = y_val\n",
        "dv"
      ],
      "execution_count": null,
      "outputs": [
        {
          "output_type": "execute_result",
          "data": {
            "text/html": [
              "<div>\n",
              "<style scoped>\n",
              "    .dataframe tbody tr th:only-of-type {\n",
              "        vertical-align: middle;\n",
              "    }\n",
              "\n",
              "    .dataframe tbody tr th {\n",
              "        vertical-align: top;\n",
              "    }\n",
              "\n",
              "    .dataframe thead th {\n",
              "        text-align: right;\n",
              "    }\n",
              "</style>\n",
              "<table border=\"1\" class=\"dataframe\">\n",
              "  <thead>\n",
              "    <tr style=\"text-align: right;\">\n",
              "      <th></th>\n",
              "      <th>sentence</th>\n",
              "      <th>label</th>\n",
              "    </tr>\n",
              "  </thead>\n",
              "  <tbody>\n",
              "    <tr>\n",
              "      <th>8709</th>\n",
              "      <td>Zika Virus Infection Induces Elevation of Tiss...</td>\n",
              "      <td>0</td>\n",
              "    </tr>\n",
              "    <tr>\n",
              "      <th>19468</th>\n",
              "      <td>This requires an assessment of the trade-offs ...</td>\n",
              "      <td>0</td>\n",
              "    </tr>\n",
              "    <tr>\n",
              "      <th>5508</th>\n",
              "      <td>Breath alcohol concentration was significantly...</td>\n",
              "      <td>1</td>\n",
              "    </tr>\n",
              "    <tr>\n",
              "      <th>11763</th>\n",
              "      <td>Eighteen percent stated that they had no inter...</td>\n",
              "      <td>1</td>\n",
              "    </tr>\n",
              "    <tr>\n",
              "      <th>27962</th>\n",
              "      <td>Prospective, randomised study.</td>\n",
              "      <td>0</td>\n",
              "    </tr>\n",
              "    <tr>\n",
              "      <th>...</th>\n",
              "      <td>...</td>\n",
              "      <td>...</td>\n",
              "    </tr>\n",
              "    <tr>\n",
              "      <th>14347</th>\n",
              "      <td>Only the variables pertinent to the research p...</td>\n",
              "      <td>0</td>\n",
              "    </tr>\n",
              "    <tr>\n",
              "      <th>16228</th>\n",
              "      <td>We examined socioeconomics variables at the mu...</td>\n",
              "      <td>0</td>\n",
              "    </tr>\n",
              "    <tr>\n",
              "      <th>26440</th>\n",
              "      <td>Clinical examination and CA125 measurement wer...</td>\n",
              "      <td>0</td>\n",
              "    </tr>\n",
              "    <tr>\n",
              "      <th>19595</th>\n",
              "      <td>The Municipality of Arnhem is one of Dutch com...</td>\n",
              "      <td>0</td>\n",
              "    </tr>\n",
              "    <tr>\n",
              "      <th>6904</th>\n",
              "      <td>We first reviewed the literature to establish ...</td>\n",
              "      <td>0</td>\n",
              "    </tr>\n",
              "  </tbody>\n",
              "</table>\n",
              "<p>6202 rows × 2 columns</p>\n",
              "</div>"
            ],
            "text/plain": [
              "                                                sentence label\n",
              "8709   Zika Virus Infection Induces Elevation of Tiss...     0\n",
              "19468  This requires an assessment of the trade-offs ...     0\n",
              "5508   Breath alcohol concentration was significantly...     1\n",
              "11763  Eighteen percent stated that they had no inter...     1\n",
              "27962                     Prospective, randomised study.     0\n",
              "...                                                  ...   ...\n",
              "14347  Only the variables pertinent to the research p...     0\n",
              "16228  We examined socioeconomics variables at the mu...     0\n",
              "26440  Clinical examination and CA125 measurement wer...     0\n",
              "19595  The Municipality of Arnhem is one of Dutch com...     0\n",
              "6904   We first reviewed the literature to establish ...     0\n",
              "\n",
              "[6202 rows x 2 columns]"
            ]
          },
          "metadata": {},
          "execution_count": 18
        }
      ]
    },
    {
      "cell_type": "markdown",
      "metadata": {
        "id": "D0i5EkjYc-h1"
      },
      "source": [
        "* We preprocess data and convert them into the format needed for the fasttext model to run."
      ]
    },
    {
      "cell_type": "code",
      "metadata": {
        "id": "Ets0TPHzzdgh"
      },
      "source": [
        "# NLP Preprocess\n",
        "df.iloc[:, 0] = df.iloc[:, 0].apply(lambda x: ' '.join(simple_preprocess(x)))\n",
        "ds.iloc[:, 0] = ds.iloc[:, 0].apply(lambda x: ' '.join(simple_preprocess(x)))\n",
        "dv.iloc[:, 0] = dv.iloc[:, 0].apply(lambda x: ' '.join(simple_preprocess(x)))\n",
        "\n",
        "# Prefixing each row of the category column with 'label'\n",
        "df.iloc[:, 1] = df.iloc[:, 1].apply(lambda x: '__label__' + str(x))\n",
        "ds.iloc[:, 1] = ds.iloc[:, 1].apply(lambda x: '__label__' + str(x))\n",
        "dv.iloc[:, 1] = dv.iloc[:, 1].apply(lambda x: '__label__' + str(x))"
      ],
      "execution_count": null,
      "outputs": []
    },
    {
      "cell_type": "markdown",
      "metadata": {
        "id": "vaNB3Xn-dXMy"
      },
      "source": [
        "* We save the train, test and validation dataframes into a csv file in order to train the classifier."
      ]
    },
    {
      "cell_type": "code",
      "metadata": {
        "id": "RUFEYw8vWTWv"
      },
      "source": [
        "# Saving the CSV file as a text file to train/test the classifier\n",
        "df[['label', 'sentence']].to_csv('train_arg.txt', \n",
        "                                          index = False, \n",
        "                                          sep = ' ',\n",
        "                                          header = None, \n",
        "                                          quoting = csv.QUOTE_NONE, \n",
        "                                          quotechar = \"\", \n",
        "                                          escapechar = \" \")\n",
        "\n",
        "ds[['label', 'sentence']].to_csv('test_arg.txt', \n",
        "                                     index = False, \n",
        "                                     sep = ' ',\n",
        "                                     header = None, \n",
        "                                     quoting = csv.QUOTE_NONE, \n",
        "                                     quotechar = \"\", \n",
        "                                     escapechar = \" \")\n",
        "dv[['label', 'sentence']].to_csv('validation_arg.txt', \n",
        "                                     index = False, \n",
        "                                     sep = ' ',\n",
        "                                     header = None, \n",
        "                                     quoting = csv.QUOTE_NONE, \n",
        "                                     quotechar = \"\", \n",
        "                                     escapechar = \" \")"
      ],
      "execution_count": null,
      "outputs": []
    },
    {
      "cell_type": "markdown",
      "metadata": {
        "id": "OHOEWAJ1detc"
      },
      "source": [
        "* We train the model using the train dataset, we use the validation for autotuning and we evaluate the model on the test dataset."
      ]
    },
    {
      "cell_type": "code",
      "metadata": {
        "id": "gwx3Z9P0WTWw"
      },
      "source": [
        "model = fasttext.train_supervised('train_arg.txt',autotuneValidationFile='validation_arg.txt', autotuneDuration=400)\n",
        "\n",
        "# Evaluating performance on the entire test file\n",
        "pred = model.test('test_arg.txt')                      "
      ],
      "execution_count": null,
      "outputs": []
    },
    {
      "cell_type": "markdown",
      "metadata": {
        "id": "wsspgislYvBl"
      },
      "source": [
        "* We can see the parameters of our model."
      ]
    },
    {
      "cell_type": "code",
      "metadata": {
        "id": "3aDGqOogYMiD"
      },
      "source": [
        "def parameters(model):\n",
        "  arg_obj = model.f.getArgs()\n",
        "  for hparam in dir(arg_obj):\n",
        "      if not hparam.startswith('__'):\n",
        "          print(f\"{hparam} -> {getattr(arg_obj, hparam)}\")"
      ],
      "execution_count": null,
      "outputs": []
    },
    {
      "cell_type": "code",
      "metadata": {
        "colab": {
          "base_uri": "https://localhost:8080/"
        },
        "id": "UV_pEvowYNmj",
        "outputId": "30582f95-6b2a-4ae1-9ea2-93f4a262d4c7"
      },
      "source": [
        "parameters(model)"
      ],
      "execution_count": null,
      "outputs": [
        {
          "output_type": "stream",
          "name": "stdout",
          "text": [
            "autotuneDuration -> 400\n",
            "autotuneMetric -> f1\n",
            "autotuneModelSize -> \n",
            "autotunePredictions -> 1\n",
            "autotuneValidationFile -> validation_arg.txt\n",
            "bucket -> 0\n",
            "cutoff -> 0\n",
            "dim -> 79\n",
            "dsub -> 2\n",
            "epoch -> 4\n",
            "input -> train_arg.txt\n",
            "label -> __label__\n",
            "loss -> loss_name.softmax\n",
            "lr -> 0.10438606997101511\n",
            "lrUpdateRate -> 100\n",
            "maxn -> 0\n",
            "minCount -> 1\n",
            "minCountLabel -> 0\n",
            "minn -> 0\n",
            "model -> model_name.supervised\n",
            "neg -> 5\n",
            "output -> \n",
            "pretrainedVectors -> \n",
            "qnorm -> False\n",
            "qout -> False\n",
            "retrain -> False\n",
            "saveOutput -> False\n",
            "seed -> 0\n",
            "setManual -> <bound method PyCapsule.setManual of <fasttext_pybind.args object at 0x7f65df291a30>>\n",
            "t -> 0.0001\n",
            "thread -> 1\n",
            "verbose -> 2\n",
            "wordNgrams -> 1\n",
            "ws -> 5\n"
          ]
        }
      ]
    },
    {
      "cell_type": "markdown",
      "metadata": {
        "id": "xCx03rU_dk1_"
      },
      "source": [
        "* As we can see, the precision and recall for the model is 77.6 percent."
      ]
    },
    {
      "cell_type": "code",
      "metadata": {
        "colab": {
          "base_uri": "https://localhost:8080/"
        },
        "id": "MyfKVh2ApyXW",
        "outputId": "2acf5fee-9e9e-4a7b-9720-35091a13083b"
      },
      "source": [
        "pred"
      ],
      "execution_count": null,
      "outputs": [
        {
          "output_type": "execute_result",
          "data": {
            "text/plain": [
              "(6202, 0.7765237020316027, 0.7765237020316027)"
            ]
          },
          "metadata": {},
          "execution_count": 24
        }
      ]
    },
    {
      "cell_type": "markdown",
      "metadata": {
        "id": "2_oCInAveLAc"
      },
      "source": [
        "* As we can see, accuracy is also 77.6 percent.\n",
        "\n"
      ]
    },
    {
      "cell_type": "code",
      "metadata": {
        "id": "D-54jgBKXgq9"
      },
      "source": [
        "predicted=[]\n",
        "for i in range(len(ds)):\n",
        "   a=model.predict(ds.iloc[i][0])[0][0]\n",
        "   predicted.append(a)  "
      ],
      "execution_count": null,
      "outputs": []
    },
    {
      "cell_type": "code",
      "metadata": {
        "id": "_Ig__o_2XnFc"
      },
      "source": [
        "actual = ds.label.tolist()"
      ],
      "execution_count": null,
      "outputs": []
    },
    {
      "cell_type": "code",
      "metadata": {
        "id": "TxwmTFeBXdaG"
      },
      "source": [
        "num_correct = 0\n",
        "for i in range(len(predicted)):\n",
        "    if predicted[i] == actual[i]:\n",
        "        num_correct += 1"
      ],
      "execution_count": null,
      "outputs": []
    },
    {
      "cell_type": "code",
      "metadata": {
        "colab": {
          "base_uri": "https://localhost:8080/"
        },
        "id": "HqgJ-5gcXjOr",
        "outputId": "af4d6862-a6e9-4a4d-f8ac-d43e5f3225b0"
      },
      "source": [
        "accuracy = num_correct/len(predicted)\n",
        "accuracy"
      ],
      "execution_count": null,
      "outputs": [
        {
          "output_type": "execute_result",
          "data": {
            "text/plain": [
              "0.7765237020316027"
            ]
          },
          "metadata": {},
          "execution_count": 28
        }
      ]
    },
    {
      "cell_type": "markdown",
      "metadata": {
        "id": "NW0bUGQJf0MM"
      },
      "source": [
        "* Last but not least, we create the confusion matrix."
      ]
    },
    {
      "cell_type": "code",
      "metadata": {
        "id": "eATDQUz9nN2s"
      },
      "source": [
        "class_names = ds['label'].str[9:].unique()\n",
        "def print_confusion_matrix(y_test,\n",
        "                           y_pred,\n",
        "                           class_names: List[str],\n",
        "                           figsize: Tuple[int, int] = (10, 7),\n",
        "                           fontsize: int = 14) -> pd.DataFrame:\n",
        "    \"\"\"\n",
        "    Prints a confusion matrix, as returned by sklearn.metrics.confusion_matrix, as a heat-map.\n",
        "\n",
        "    :param class_names:  An ordered list of class names\n",
        "    :param figsize: A 2-long tuple, the first value determining the horizontal size of the outputted\n",
        "                    figure, the second determining the vertical size. Defaults to (10,7).\n",
        "    :param fontsize: Font size for axes labels. Defaults to 14.\n",
        "    :return: The confusion matrix as a dataset\n",
        "    \"\"\"\n",
        "    conf_matrix = confusion_matrix(y_true=y_test, y_pred=y_pred)\n",
        "\n",
        "    df_cm = pd.DataFrame(conf_matrix, index=class_names, columns=class_names)\n",
        "\n",
        "    fig = plt.figure(figsize=figsize)\n",
        "\n",
        "    try:\n",
        "        heatmap = sns.heatmap(df_cm, annot=True, fmt=\"d\")\n",
        "\n",
        "    except ValueError:\n",
        "\n",
        "        raise ValueError(\"Confusion matrix values must be integers.\")\n",
        "\n",
        "    heatmap.yaxis.set_ticklabels(heatmap.yaxis.get_ticklabels(),\n",
        "                                 rotation=0,\n",
        "                                 ha='right',\n",
        "                                 fontsize=fontsize)\n",
        "\n",
        "    heatmap.xaxis.set_ticklabels(heatmap.xaxis.get_ticklabels(),\n",
        "                                 rotation=45,\n",
        "                                 ha='right',\n",
        "                                 fontsize=fontsize)\n",
        "\n",
        "    plt.ylabel('True label')\n",
        "    plt.xlabel('Predicted label')\n",
        "    plt.show()\n",
        "\n",
        "    return df_cm"
      ],
      "execution_count": null,
      "outputs": []
    },
    {
      "cell_type": "code",
      "metadata": {
        "id": "OOEAsBY5d7z1"
      },
      "source": [
        "y_pred = []\n",
        "for i in range(len(X_test)):\n",
        "  item = X_test.iloc[i]\n",
        "  item = item.replace(\"\\n\",\" \")\n",
        "  z = model.predict(item)[0][0][9:]\n",
        "  y_pred.append(z)"
      ],
      "execution_count": null,
      "outputs": []
    },
    {
      "cell_type": "code",
      "metadata": {
        "id": "4S5UgenEt8f_"
      },
      "source": [
        "#labeling our classes\n",
        "classb = ['Neither','Evidence','Claim']"
      ],
      "execution_count": null,
      "outputs": []
    },
    {
      "cell_type": "code",
      "metadata": {
        "colab": {
          "base_uri": "https://localhost:8080/",
          "height": 612
        },
        "id": "eqa9aEsguV0g",
        "outputId": "53c4b6ed-482a-4dc6-cdfb-355e0c102fa0"
      },
      "source": [
        "#print confusion matrix\n",
        "print_confusion_matrix(ds['label'].str[9:],\n",
        "                           y_pred,\n",
        "                           classb)"
      ],
      "execution_count": null,
      "outputs": [
        {
          "output_type": "display_data",
          "data": {
            "image/png": "[encoded data removed]",
            "text/plain": [
              "<Figure size 720x504 with 2 Axes>"
            ]
          },
          "metadata": {
            "needs_background": "light"
          }
        },
        {
          "output_type": "execute_result",
          "data": {
            "text/html": [
              "<div>\n",
              "<style scoped>\n",
              "    .dataframe tbody tr th:only-of-type {\n",
              "        vertical-align: middle;\n",
              "    }\n",
              "\n",
              "    .dataframe tbody tr th {\n",
              "        vertical-align: top;\n",
              "    }\n",
              "\n",
              "    .dataframe thead th {\n",
              "        text-align: right;\n",
              "    }\n",
              "</style>\n",
              "<table border=\"1\" class=\"dataframe\">\n",
              "  <thead>\n",
              "    <tr style=\"text-align: right;\">\n",
              "      <th></th>\n",
              "      <th>Neither</th>\n",
              "      <th>Evidence</th>\n",
              "      <th>Claim</th>\n",
              "    </tr>\n",
              "  </thead>\n",
              "  <tbody>\n",
              "    <tr>\n",
              "      <th>Neither</th>\n",
              "      <td>3948</td>\n",
              "      <td>252</td>\n",
              "      <td>86</td>\n",
              "    </tr>\n",
              "    <tr>\n",
              "      <th>Evidence</th>\n",
              "      <td>585</td>\n",
              "      <td>626</td>\n",
              "      <td>24</td>\n",
              "    </tr>\n",
              "    <tr>\n",
              "      <th>Claim</th>\n",
              "      <td>471</td>\n",
              "      <td>111</td>\n",
              "      <td>99</td>\n",
              "    </tr>\n",
              "  </tbody>\n",
              "</table>\n",
              "</div>"
            ],
            "text/plain": [
              "          Neither  Evidence  Claim\n",
              "Neither      3948       252     86\n",
              "Evidence      585       626     24\n",
              "Claim         471       111     99"
            ]
          },
          "metadata": {},
          "execution_count": 32
        }
      ]
    },
    {
      "cell_type": "markdown",
      "metadata": {
        "id": "2vlRgX3YVc2x"
      },
      "source": [
        "<h1>FastText Structure<h1>\n"
      ]
    },
    {
      "cell_type": "markdown",
      "metadata": {
        "id": "GJbn2F3XVc2y"
      },
      "source": [
        "* We load the structure dataset."
      ]
    },
    {
      "cell_type": "code",
      "metadata": {
        "colab": {
          "base_uri": "https://localhost:8080/",
          "height": 159
        },
        "id": "am8Lh52JVc2y",
        "outputId": "d070aa61-7646-40e5-d40c-28c246e94cc1"
      },
      "source": [
        "data = load_corpus('dataset_aueb_structure_v2.json')\n",
        "print(f'Dataset length: {len(data)} abstracts')\n",
        "\n",
        "data.head(3)"
      ],
      "execution_count": null,
      "outputs": [
        {
          "output_type": "stream",
          "name": "stdout",
          "text": [
            "Dataset length: 1014 abstracts\n"
          ]
        },
        {
          "output_type": "execute_result",
          "data": {
            "text/html": [
              "<div>\n",
              "<style scoped>\n",
              "    .dataframe tbody tr th:only-of-type {\n",
              "        vertical-align: middle;\n",
              "    }\n",
              "\n",
              "    .dataframe tbody tr th {\n",
              "        vertical-align: top;\n",
              "    }\n",
              "\n",
              "    .dataframe thead th {\n",
              "        text-align: right;\n",
              "    }\n",
              "</style>\n",
              "<table border=\"1\" class=\"dataframe\">\n",
              "  <thead>\n",
              "    <tr style=\"text-align: right;\">\n",
              "      <th></th>\n",
              "      <th>document</th>\n",
              "      <th>sentences</th>\n",
              "      <th>labels</th>\n",
              "    </tr>\n",
              "  </thead>\n",
              "  <tbody>\n",
              "    <tr>\n",
              "      <th>0</th>\n",
              "      <td>doi: 10.1001/jamaneurol.2017.2814</td>\n",
              "      <td>[Concordance Between Different Amyloid Immunoa...</td>\n",
              "      <td>[NEITHER, BACKGROUND, BACKGROUND, BACKGROUND, ...</td>\n",
              "    </tr>\n",
              "    <tr>\n",
              "      <th>1</th>\n",
              "      <td>doi: 10.1001/jamaneurol.2017.4913</td>\n",
              "      <td>[Association of Changes in Plasma Neurofilamen...</td>\n",
              "      <td>[NEITHER, BACKGROUND, BACKGROUND, OBJECTIVE, M...</td>\n",
              "    </tr>\n",
              "    <tr>\n",
              "      <th>2</th>\n",
              "      <td>doi: 10.1002/2015gl067056</td>\n",
              "      <td>[Dynamically triggered slip leading to sustain...</td>\n",
              "      <td>[NEITHER, OBJECTIVE, METHOD, RESULT, RESULT, C...</td>\n",
              "    </tr>\n",
              "  </tbody>\n",
              "</table>\n",
              "</div>"
            ],
            "text/plain": [
              "                            document  ...                                             labels\n",
              "0  doi: 10.1001/jamaneurol.2017.2814  ...  [NEITHER, BACKGROUND, BACKGROUND, BACKGROUND, ...\n",
              "1  doi: 10.1001/jamaneurol.2017.4913  ...  [NEITHER, BACKGROUND, BACKGROUND, OBJECTIVE, M...\n",
              "2          doi: 10.1002/2015gl067056  ...  [NEITHER, OBJECTIVE, METHOD, RESULT, RESULT, C...\n",
              "\n",
              "[3 rows x 3 columns]"
            ]
          },
          "metadata": {},
          "execution_count": 38
        }
      ]
    },
    {
      "cell_type": "markdown",
      "metadata": {
        "id": "3po8K2TgVc2z"
      },
      "source": [
        "* We split our abstracts to sentences and labels per row."
      ]
    },
    {
      "cell_type": "code",
      "metadata": {
        "id": "P9txE3IAVc2z"
      },
      "source": [
        "#@title Split to sentences\n",
        "sentences = data['sentences'].explode().reset_index().rename(\n",
        "    columns={'index': 'doc_id', 'sentences': 'sentence'})\n",
        "sentences.sentence = sentences.sentence.astype(\"string\")\n",
        "sentences.sentence = sentences.sentence.str.strip()"
      ],
      "execution_count": null,
      "outputs": []
    },
    {
      "cell_type": "code",
      "metadata": {
        "colab": {
          "base_uri": "https://localhost:8080/",
          "height": 419
        },
        "id": "r62eWXDZVc20",
        "outputId": "1f53f2e3-63f8-45f5-c6b0-45ffed4516ad"
      },
      "source": [
        "#@title and the corresponding labels\n",
        "labels = data['labels'].explode().reset_index().rename(\n",
        "    columns={'index': 'doc_id', 'labels': 'label'})\n",
        "labels"
      ],
      "execution_count": null,
      "outputs": [
        {
          "output_type": "execute_result",
          "data": {
            "text/html": [
              "<div>\n",
              "<style scoped>\n",
              "    .dataframe tbody tr th:only-of-type {\n",
              "        vertical-align: middle;\n",
              "    }\n",
              "\n",
              "    .dataframe tbody tr th {\n",
              "        vertical-align: top;\n",
              "    }\n",
              "\n",
              "    .dataframe thead th {\n",
              "        text-align: right;\n",
              "    }\n",
              "</style>\n",
              "<table border=\"1\" class=\"dataframe\">\n",
              "  <thead>\n",
              "    <tr style=\"text-align: right;\">\n",
              "      <th></th>\n",
              "      <th>doc_id</th>\n",
              "      <th>label</th>\n",
              "    </tr>\n",
              "  </thead>\n",
              "  <tbody>\n",
              "    <tr>\n",
              "      <th>0</th>\n",
              "      <td>0</td>\n",
              "      <td>NEITHER</td>\n",
              "    </tr>\n",
              "    <tr>\n",
              "      <th>1</th>\n",
              "      <td>0</td>\n",
              "      <td>BACKGROUND</td>\n",
              "    </tr>\n",
              "    <tr>\n",
              "      <th>2</th>\n",
              "      <td>0</td>\n",
              "      <td>BACKGROUND</td>\n",
              "    </tr>\n",
              "    <tr>\n",
              "      <th>3</th>\n",
              "      <td>0</td>\n",
              "      <td>BACKGROUND</td>\n",
              "    </tr>\n",
              "    <tr>\n",
              "      <th>4</th>\n",
              "      <td>0</td>\n",
              "      <td>OBJECTIVE</td>\n",
              "    </tr>\n",
              "    <tr>\n",
              "      <th>...</th>\n",
              "      <td>...</td>\n",
              "      <td>...</td>\n",
              "    </tr>\n",
              "    <tr>\n",
              "      <th>10543</th>\n",
              "      <td>1013</td>\n",
              "      <td>METHOD</td>\n",
              "    </tr>\n",
              "    <tr>\n",
              "      <th>10544</th>\n",
              "      <td>1013</td>\n",
              "      <td>RESULT</td>\n",
              "    </tr>\n",
              "    <tr>\n",
              "      <th>10545</th>\n",
              "      <td>1013</td>\n",
              "      <td>RESULT</td>\n",
              "    </tr>\n",
              "    <tr>\n",
              "      <th>10546</th>\n",
              "      <td>1013</td>\n",
              "      <td>RESULT</td>\n",
              "    </tr>\n",
              "    <tr>\n",
              "      <th>10547</th>\n",
              "      <td>1013</td>\n",
              "      <td>CONCLUSION</td>\n",
              "    </tr>\n",
              "  </tbody>\n",
              "</table>\n",
              "<p>10548 rows × 2 columns</p>\n",
              "</div>"
            ],
            "text/plain": [
              "       doc_id       label\n",
              "0           0     NEITHER\n",
              "1           0  BACKGROUND\n",
              "2           0  BACKGROUND\n",
              "3           0  BACKGROUND\n",
              "4           0   OBJECTIVE\n",
              "...       ...         ...\n",
              "10543    1013      METHOD\n",
              "10544    1013      RESULT\n",
              "10545    1013      RESULT\n",
              "10546    1013      RESULT\n",
              "10547    1013  CONCLUSION\n",
              "\n",
              "[10548 rows x 2 columns]"
            ]
          },
          "metadata": {},
          "execution_count": 40
        }
      ]
    },
    {
      "cell_type": "markdown",
      "metadata": {
        "id": "5A6wcWuDVc20"
      },
      "source": [
        "* We split our dataset into train, test and validation and we use stratification."
      ]
    },
    {
      "cell_type": "code",
      "metadata": {
        "id": "6o-FtiK_Vc20"
      },
      "source": [
        " X_train, X_test, y_train, y_test = train_test_split(sentences[\"sentence\"],\n",
        "                                                     labels['label'],\n",
        "                                                     test_size=0.20,\n",
        "                                                     random_state=42,\n",
        "                                                     stratify=labels['label'])\n",
        "\n",
        " X_train, X_val, y_train, y_val = train_test_split(X_train, y_train, test_size=0.25, random_state=1)"
      ],
      "execution_count": null,
      "outputs": []
    },
    {
      "cell_type": "code",
      "metadata": {
        "colab": {
          "base_uri": "https://localhost:8080/"
        },
        "id": "OoFoBnrBmcuo",
        "outputId": "1855263f-de45-44c1-b713-410ee460462c"
      },
      "source": [
        "len(y_train), len(y_test), len(y_val)"
      ],
      "execution_count": null,
      "outputs": [
        {
          "output_type": "execute_result",
          "data": {
            "text/plain": [
              "(6328, 2110, 2110)"
            ]
          },
          "metadata": {},
          "execution_count": 42
        }
      ]
    },
    {
      "cell_type": "markdown",
      "metadata": {
        "id": "z370Sfm6Vc21"
      },
      "source": [
        "* Here, we can see the percentages of examples in each class for our training and test dataset with stratification."
      ]
    },
    {
      "cell_type": "code",
      "metadata": {
        "colab": {
          "base_uri": "https://localhost:8080/"
        },
        "id": "UOU6SJk9Vc21",
        "outputId": "6ed318ab-6438-4fcc-eef3-eeeb5448263e"
      },
      "source": [
        "round(y_train.value_counts() / len(y_train) * 100, 2)"
      ],
      "execution_count": null,
      "outputs": [
        {
          "output_type": "execute_result",
          "data": {
            "text/plain": [
              "RESULT        26.00\n",
              "BACKGROUND    20.07\n",
              "OBJECTIVE     17.70\n",
              "METHOD        15.08\n",
              "CONCLUSION    11.38\n",
              "NEITHER        9.78\n",
              "Name: label, dtype: float64"
            ]
          },
          "metadata": {},
          "execution_count": 43
        }
      ]
    },
    {
      "cell_type": "code",
      "metadata": {
        "colab": {
          "base_uri": "https://localhost:8080/"
        },
        "id": "pNfUKx45Vc21",
        "outputId": "bb059beb-2ee3-41b9-871f-40884a9c8a1b"
      },
      "source": [
        "round(y_test.value_counts() / len(y_test) * 100, 2)"
      ],
      "execution_count": null,
      "outputs": [
        {
          "output_type": "execute_result",
          "data": {
            "text/plain": [
              "RESULT        25.64\n",
              "BACKGROUND    20.19\n",
              "OBJECTIVE     17.58\n",
              "METHOD        15.21\n",
              "CONCLUSION    11.75\n",
              "NEITHER        9.62\n",
              "Name: label, dtype: float64"
            ]
          },
          "metadata": {},
          "execution_count": 44
        }
      ]
    },
    {
      "cell_type": "code",
      "metadata": {
        "colab": {
          "base_uri": "https://localhost:8080/"
        },
        "id": "O7pnYJBuma8n",
        "outputId": "80ee51f3-6aec-40ad-9db2-be1d12e9d0c6"
      },
      "source": [
        "round(y_val.value_counts() / len(y_val) * 100, 2)"
      ],
      "execution_count": null,
      "outputs": [
        {
          "output_type": "execute_result",
          "data": {
            "text/plain": [
              "RESULT        24.60\n",
              "BACKGROUND    20.52\n",
              "OBJECTIVE     17.30\n",
              "METHOD        15.50\n",
              "CONCLUSION    12.99\n",
              "NEITHER        9.10\n",
              "Name: label, dtype: float64"
            ]
          },
          "metadata": {},
          "execution_count": 45
        }
      ]
    },
    {
      "cell_type": "markdown",
      "metadata": {
        "id": "E_mmde7HVc21"
      },
      "source": [
        "* Create a dataframe with the train's X & y labels."
      ]
    },
    {
      "cell_type": "code",
      "metadata": {
        "colab": {
          "base_uri": "https://localhost:8080/",
          "height": 419
        },
        "id": "TW0HnMqFVc22",
        "outputId": "d3afc4e9-6ded-4edd-93c7-4f06b8320f41"
      },
      "source": [
        "#train dataset\n",
        "df = pd.DataFrame(X_train)\n",
        "df.columns = ['sentence']\n",
        "df[\"label\"] = y_train\n",
        "df"
      ],
      "execution_count": null,
      "outputs": [
        {
          "output_type": "execute_result",
          "data": {
            "text/html": [
              "<div>\n",
              "<style scoped>\n",
              "    .dataframe tbody tr th:only-of-type {\n",
              "        vertical-align: middle;\n",
              "    }\n",
              "\n",
              "    .dataframe tbody tr th {\n",
              "        vertical-align: top;\n",
              "    }\n",
              "\n",
              "    .dataframe thead th {\n",
              "        text-align: right;\n",
              "    }\n",
              "</style>\n",
              "<table border=\"1\" class=\"dataframe\">\n",
              "  <thead>\n",
              "    <tr style=\"text-align: right;\">\n",
              "      <th></th>\n",
              "      <th>sentence</th>\n",
              "      <th>label</th>\n",
              "    </tr>\n",
              "  </thead>\n",
              "  <tbody>\n",
              "    <tr>\n",
              "      <th>9100</th>\n",
              "      <td>However, numerical investigations that focus o...</td>\n",
              "      <td>BACKGROUND</td>\n",
              "    </tr>\n",
              "    <tr>\n",
              "      <th>5394</th>\n",
              "      <td>We compared our estimates with those from the ...</td>\n",
              "      <td>METHOD</td>\n",
              "    </tr>\n",
              "    <tr>\n",
              "      <th>5174</th>\n",
              "      <td>Two large hexagonal pick-up coils with an equi...</td>\n",
              "      <td>METHOD</td>\n",
              "    </tr>\n",
              "    <tr>\n",
              "      <th>1855</th>\n",
              "      <td>Objective The purpose of this study was to inv...</td>\n",
              "      <td>OBJECTIVE</td>\n",
              "    </tr>\n",
              "    <tr>\n",
              "      <th>2941</th>\n",
              "      <td>As a test bed, the anatase/rutile P25 is studi...</td>\n",
              "      <td>METHOD</td>\n",
              "    </tr>\n",
              "    <tr>\n",
              "      <th>...</th>\n",
              "      <td>...</td>\n",
              "      <td>...</td>\n",
              "    </tr>\n",
              "    <tr>\n",
              "      <th>5941</th>\n",
              "      <td>The availability of microbial genomes has open...</td>\n",
              "      <td>BACKGROUND</td>\n",
              "    </tr>\n",
              "    <tr>\n",
              "      <th>8278</th>\n",
              "      <td>Testing the vector competence of local mosquit...</td>\n",
              "      <td>BACKGROUND</td>\n",
              "    </tr>\n",
              "    <tr>\n",
              "      <th>1395</th>\n",
              "      <td>We achieve a very favorable balance between ac...</td>\n",
              "      <td>RESULT</td>\n",
              "    </tr>\n",
              "    <tr>\n",
              "      <th>10470</th>\n",
              "      <td>Summertime precipitation extremes in a EURO-CO...</td>\n",
              "      <td>NEITHER</td>\n",
              "    </tr>\n",
              "    <tr>\n",
              "      <th>1847</th>\n",
              "      <td>Combining several ECG parameters predicted SR ...</td>\n",
              "      <td>OBJECTIVE</td>\n",
              "    </tr>\n",
              "  </tbody>\n",
              "</table>\n",
              "<p>6328 rows × 2 columns</p>\n",
              "</div>"
            ],
            "text/plain": [
              "                                                sentence       label\n",
              "9100   However, numerical investigations that focus o...  BACKGROUND\n",
              "5394   We compared our estimates with those from the ...      METHOD\n",
              "5174   Two large hexagonal pick-up coils with an equi...      METHOD\n",
              "1855   Objective The purpose of this study was to inv...   OBJECTIVE\n",
              "2941   As a test bed, the anatase/rutile P25 is studi...      METHOD\n",
              "...                                                  ...         ...\n",
              "5941   The availability of microbial genomes has open...  BACKGROUND\n",
              "8278   Testing the vector competence of local mosquit...  BACKGROUND\n",
              "1395   We achieve a very favorable balance between ac...      RESULT\n",
              "10470  Summertime precipitation extremes in a EURO-CO...     NEITHER\n",
              "1847   Combining several ECG parameters predicted SR ...   OBJECTIVE\n",
              "\n",
              "[6328 rows x 2 columns]"
            ]
          },
          "metadata": {},
          "execution_count": 46
        }
      ]
    },
    {
      "cell_type": "markdown",
      "metadata": {
        "id": "P5UjyAQGVc22"
      },
      "source": [
        "* Create a dataframe with the test's X & y labels."
      ]
    },
    {
      "cell_type": "code",
      "metadata": {
        "colab": {
          "base_uri": "https://localhost:8080/",
          "height": 419
        },
        "id": "ZfkaU7L8Vc23",
        "outputId": "c86792d5-df05-4038-f4be-1bff9b6e265c"
      },
      "source": [
        "#test dataset\n",
        "ds = pd.DataFrame(X_test)\n",
        "ds.columns = ['sentence']\n",
        "ds[\"label\"] = y_test\n",
        "ds"
      ],
      "execution_count": null,
      "outputs": [
        {
          "output_type": "execute_result",
          "data": {
            "text/html": [
              "<div>\n",
              "<style scoped>\n",
              "    .dataframe tbody tr th:only-of-type {\n",
              "        vertical-align: middle;\n",
              "    }\n",
              "\n",
              "    .dataframe tbody tr th {\n",
              "        vertical-align: top;\n",
              "    }\n",
              "\n",
              "    .dataframe thead th {\n",
              "        text-align: right;\n",
              "    }\n",
              "</style>\n",
              "<table border=\"1\" class=\"dataframe\">\n",
              "  <thead>\n",
              "    <tr style=\"text-align: right;\">\n",
              "      <th></th>\n",
              "      <th>sentence</th>\n",
              "      <th>label</th>\n",
              "    </tr>\n",
              "  </thead>\n",
              "  <tbody>\n",
              "    <tr>\n",
              "      <th>4060</th>\n",
              "      <td>Global emissions of carbon dioxide (CO 2 ) fro...</td>\n",
              "      <td>BACKGROUND</td>\n",
              "    </tr>\n",
              "    <tr>\n",
              "      <th>1494</th>\n",
              "      <td>Such differences are likely to have consequenc...</td>\n",
              "      <td>CONCLUSION</td>\n",
              "    </tr>\n",
              "    <tr>\n",
              "      <th>1128</th>\n",
              "      <td>Yet the number of unique lipids present is sur...</td>\n",
              "      <td>BACKGROUND</td>\n",
              "    </tr>\n",
              "    <tr>\n",
              "      <th>3938</th>\n",
              "      <td>Our study underscores the need to move beyond ...</td>\n",
              "      <td>CONCLUSION</td>\n",
              "    </tr>\n",
              "    <tr>\n",
              "      <th>354</th>\n",
              "      <td>Moreover, a new compound based on PTM disubsti...</td>\n",
              "      <td>METHOD</td>\n",
              "    </tr>\n",
              "    <tr>\n",
              "      <th>...</th>\n",
              "      <td>...</td>\n",
              "      <td>...</td>\n",
              "    </tr>\n",
              "    <tr>\n",
              "      <th>6930</th>\n",
              "      <td>We compliment the authors on emphasising the i...</td>\n",
              "      <td>BACKGROUND</td>\n",
              "    </tr>\n",
              "    <tr>\n",
              "      <th>10290</th>\n",
              "      <td>The global aerosol–climate model ECHAM6.3–HAM2...</td>\n",
              "      <td>OBJECTIVE</td>\n",
              "    </tr>\n",
              "    <tr>\n",
              "      <th>8335</th>\n",
              "      <td>Results After correction for multiple comparis...</td>\n",
              "      <td>RESULT</td>\n",
              "    </tr>\n",
              "    <tr>\n",
              "      <th>8475</th>\n",
              "      <td>Mycobacterial pathogens are the causative agen...</td>\n",
              "      <td>BACKGROUND</td>\n",
              "    </tr>\n",
              "    <tr>\n",
              "      <th>6988</th>\n",
              "      <td>Methods: Using the South-East England Register...</td>\n",
              "      <td>METHOD</td>\n",
              "    </tr>\n",
              "  </tbody>\n",
              "</table>\n",
              "<p>2110 rows × 2 columns</p>\n",
              "</div>"
            ],
            "text/plain": [
              "                                                sentence       label\n",
              "4060   Global emissions of carbon dioxide (CO 2 ) fro...  BACKGROUND\n",
              "1494   Such differences are likely to have consequenc...  CONCLUSION\n",
              "1128   Yet the number of unique lipids present is sur...  BACKGROUND\n",
              "3938   Our study underscores the need to move beyond ...  CONCLUSION\n",
              "354    Moreover, a new compound based on PTM disubsti...      METHOD\n",
              "...                                                  ...         ...\n",
              "6930   We compliment the authors on emphasising the i...  BACKGROUND\n",
              "10290  The global aerosol–climate model ECHAM6.3–HAM2...   OBJECTIVE\n",
              "8335   Results After correction for multiple comparis...      RESULT\n",
              "8475   Mycobacterial pathogens are the causative agen...  BACKGROUND\n",
              "6988   Methods: Using the South-East England Register...      METHOD\n",
              "\n",
              "[2110 rows x 2 columns]"
            ]
          },
          "metadata": {},
          "execution_count": 47
        }
      ]
    },
    {
      "cell_type": "markdown",
      "metadata": {
        "id": "Jj0NQ8eCFS91"
      },
      "source": [
        "* Create a dataframe with the validation's X & y labels."
      ]
    },
    {
      "cell_type": "code",
      "metadata": {
        "colab": {
          "base_uri": "https://localhost:8080/",
          "height": 419
        },
        "id": "X9DDkPl_m4y9",
        "outputId": "7b3375ee-ae03-4cc6-bcd6-bafb5f97ab63"
      },
      "source": [
        "#valid dataset\n",
        "dv = pd.DataFrame(X_val)\n",
        "dv.columns = ['sentence']\n",
        "dv[\"label\"] = y_val\n",
        "dv"
      ],
      "execution_count": null,
      "outputs": [
        {
          "output_type": "execute_result",
          "data": {
            "text/html": [
              "<div>\n",
              "<style scoped>\n",
              "    .dataframe tbody tr th:only-of-type {\n",
              "        vertical-align: middle;\n",
              "    }\n",
              "\n",
              "    .dataframe tbody tr th {\n",
              "        vertical-align: top;\n",
              "    }\n",
              "\n",
              "    .dataframe thead th {\n",
              "        text-align: right;\n",
              "    }\n",
              "</style>\n",
              "<table border=\"1\" class=\"dataframe\">\n",
              "  <thead>\n",
              "    <tr style=\"text-align: right;\">\n",
              "      <th></th>\n",
              "      <th>sentence</th>\n",
              "      <th>label</th>\n",
              "    </tr>\n",
              "  </thead>\n",
              "  <tbody>\n",
              "    <tr>\n",
              "      <th>7246</th>\n",
              "      <td>We assessed systolic and diastolic LV function...</td>\n",
              "      <td>METHOD</td>\n",
              "    </tr>\n",
              "    <tr>\n",
              "      <th>8261</th>\n",
              "      <td>Therefore, we conclude that bats in these urba...</td>\n",
              "      <td>CONCLUSION</td>\n",
              "    </tr>\n",
              "    <tr>\n",
              "      <th>5927</th>\n",
              "      <td>Recent developments in G protein-coupled recep...</td>\n",
              "      <td>BACKGROUND</td>\n",
              "    </tr>\n",
              "    <tr>\n",
              "      <th>8543</th>\n",
              "      <td>Personalized medicine does not rely on changes...</td>\n",
              "      <td>RESULT</td>\n",
              "    </tr>\n",
              "    <tr>\n",
              "      <th>9219</th>\n",
              "      <td>Vectors based on adeno-associated virus (AAV) ...</td>\n",
              "      <td>BACKGROUND</td>\n",
              "    </tr>\n",
              "    <tr>\n",
              "      <th>...</th>\n",
              "      <td>...</td>\n",
              "      <td>...</td>\n",
              "    </tr>\n",
              "    <tr>\n",
              "      <th>7145</th>\n",
              "      <td>Experiments in human cardiomyocytes face wide ...</td>\n",
              "      <td>BACKGROUND</td>\n",
              "    </tr>\n",
              "    <tr>\n",
              "      <th>5666</th>\n",
              "      <td>Rhythm control therapy improves symptoms and q...</td>\n",
              "      <td>RESULT</td>\n",
              "    </tr>\n",
              "    <tr>\n",
              "      <th>7966</th>\n",
              "      <td>Using warfarin, simvastatin, voriconazole, ola...</td>\n",
              "      <td>CONCLUSION</td>\n",
              "    </tr>\n",
              "    <tr>\n",
              "      <th>3695</th>\n",
              "      <td>Genome-scale study reveals reduced metabolic a...</td>\n",
              "      <td>NEITHER</td>\n",
              "    </tr>\n",
              "    <tr>\n",
              "      <th>9451</th>\n",
              "      <td>We perform a model intercomparison of summerti...</td>\n",
              "      <td>OBJECTIVE</td>\n",
              "    </tr>\n",
              "  </tbody>\n",
              "</table>\n",
              "<p>2110 rows × 2 columns</p>\n",
              "</div>"
            ],
            "text/plain": [
              "                                               sentence       label\n",
              "7246  We assessed systolic and diastolic LV function...      METHOD\n",
              "8261  Therefore, we conclude that bats in these urba...  CONCLUSION\n",
              "5927  Recent developments in G protein-coupled recep...  BACKGROUND\n",
              "8543  Personalized medicine does not rely on changes...      RESULT\n",
              "9219  Vectors based on adeno-associated virus (AAV) ...  BACKGROUND\n",
              "...                                                 ...         ...\n",
              "7145  Experiments in human cardiomyocytes face wide ...  BACKGROUND\n",
              "5666  Rhythm control therapy improves symptoms and q...      RESULT\n",
              "7966  Using warfarin, simvastatin, voriconazole, ola...  CONCLUSION\n",
              "3695  Genome-scale study reveals reduced metabolic a...     NEITHER\n",
              "9451  We perform a model intercomparison of summerti...   OBJECTIVE\n",
              "\n",
              "[2110 rows x 2 columns]"
            ]
          },
          "metadata": {},
          "execution_count": 48
        }
      ]
    },
    {
      "cell_type": "markdown",
      "metadata": {
        "id": "e4b5VTN8Vc23"
      },
      "source": [
        "* We preprocess data and convert them into the format needed for the fasttext model to run."
      ]
    },
    {
      "cell_type": "code",
      "metadata": {
        "id": "RXxfoUj4Vc24"
      },
      "source": [
        "# NLP Preprocess\n",
        "df.iloc[:, 0] = df.iloc[:, 0].apply(lambda x: ' '.join(simple_preprocess(x)))\n",
        "ds.iloc[:, 0] = ds.iloc[:, 0].apply(lambda x: ' '.join(simple_preprocess(x)))\n",
        "dv.iloc[:, 0] = dv.iloc[:, 0].apply(lambda x: ' '.join(simple_preprocess(x)))\n",
        "\n",
        "# Prefixing each row of the category column with 'label'\n",
        "df.iloc[:, 1] = df.iloc[:, 1].apply(lambda x: '__label__' + x)\n",
        "ds.iloc[:, 1] = ds.iloc[:, 1].apply(lambda x: '__label__' + x)\n",
        "dv.iloc[:, 1] = dv.iloc[:, 1].apply(lambda x: '__label__' + x)"
      ],
      "execution_count": null,
      "outputs": []
    },
    {
      "cell_type": "markdown",
      "metadata": {
        "id": "BYLrfYk-Vc24"
      },
      "source": [
        "* We save the train,test and validation dataframes into a csv file in order to train the classifier."
      ]
    },
    {
      "cell_type": "code",
      "metadata": {
        "id": "E4g0P76aVc24"
      },
      "source": [
        "# Saving the CSV file as a text file to train/test the classifier\n",
        "df[['label', 'sentence']].to_csv('train_str.txt', \n",
        "                                          index = False, \n",
        "                                          sep = ' ',\n",
        "                                          header = None, \n",
        "                                          quoting = csv.QUOTE_NONE, \n",
        "                                          quotechar = \"\", \n",
        "                                          escapechar = \" \")\n",
        "\n",
        "ds[['label', 'sentence']].to_csv('test_str.txt', \n",
        "                                     index = False, \n",
        "                                     sep = ' ',\n",
        "                                     header = None, \n",
        "                                     quoting = csv.QUOTE_NONE, \n",
        "                                     quotechar = \"\", \n",
        "                                     escapechar = \" \")\n",
        "dv[['label', 'sentence']].to_csv('validation_str.txt', \n",
        "                                     index = False, \n",
        "                                     sep = ' ',\n",
        "                                     header = None, \n",
        "                                     quoting = csv.QUOTE_NONE, \n",
        "                                     quotechar = \"\", \n",
        "                                     escapechar = \" \")"
      ],
      "execution_count": null,
      "outputs": []
    },
    {
      "cell_type": "markdown",
      "metadata": {
        "id": "AJD6C4cCVc25"
      },
      "source": [
        "* We train the model using the train dataset and we evaluate the model on the test dataset."
      ]
    },
    {
      "cell_type": "code",
      "metadata": {
        "id": "MkJMMwFeVc25"
      },
      "source": [
        "model_str = fasttext.train_supervised('train_str.txt', lr=0.1, epoch=7, wordNgrams=1)\n",
        "\n",
        "# Evaluating performance on the entire test file\n",
        "pred = model_str.test('test_str.txt')                      "
      ],
      "execution_count": null,
      "outputs": []
    },
    {
      "cell_type": "markdown",
      "metadata": {
        "id": "gv9FC0bwVc25"
      },
      "source": [
        "* As we can see, the precision and recall for the model is nearly 58 percent."
      ]
    },
    {
      "cell_type": "code",
      "metadata": {
        "id": "JGqONwJEVc26",
        "colab": {
          "base_uri": "https://localhost:8080/"
        },
        "outputId": "dbb247cd-2b22-4a2a-e7da-d02e3bca2388"
      },
      "source": [
        "pred"
      ],
      "execution_count": null,
      "outputs": [
        {
          "output_type": "execute_result",
          "data": {
            "text/plain": [
              "(2110, 0.5772511848341232, 0.5772511848341232)"
            ]
          },
          "metadata": {},
          "execution_count": 193
        }
      ]
    },
    {
      "cell_type": "markdown",
      "metadata": {
        "id": "VBhDjCHEVc26"
      },
      "source": [
        "* As we can see accuracy is also nearly 58 percent."
      ]
    },
    {
      "cell_type": "code",
      "metadata": {
        "id": "6pSU4idVVc26"
      },
      "source": [
        "|predicted=[]\n",
        "for i in range(len(ds)):\n",
        "    a = model_str.predict(ds.iloc[i][0])[0][0]\n",
        "    predicted.append(a)  "
      ],
      "execution_count": null,
      "outputs": []
    },
    {
      "cell_type": "code",
      "metadata": {
        "id": "iVBR9ESLVc26"
      },
      "source": [
        "actual = ds.label.tolist()"
      ],
      "execution_count": null,
      "outputs": []
    },
    {
      "cell_type": "code",
      "metadata": {
        "id": "kc4GC7aCVc26"
      },
      "source": [
        "num_correct = 0\n",
        "for i in range(len(predicted)):\n",
        "    if predicted[i] == actual[i]:\n",
        "        num_correct += 1"
      ],
      "execution_count": null,
      "outputs": []
    },
    {
      "cell_type": "code",
      "metadata": {
        "id": "xDpyplTZVc2_",
        "colab": {
          "base_uri": "https://localhost:8080/"
        },
        "outputId": "728792dc-4a19-48eb-cc64-e269d4a9bf3c"
      },
      "source": [
        "accuracy = num_correct/len(predicted)\n",
        "accuracy"
      ],
      "execution_count": null,
      "outputs": [
        {
          "output_type": "execute_result",
          "data": {
            "text/plain": [
              "0.5772511848341232"
            ]
          },
          "metadata": {},
          "execution_count": 197
        }
      ]
    },
    {
      "cell_type": "markdown",
      "metadata": {
        "id": "NqgJNKO_Vc2_"
      },
      "source": [
        "* Last but not least, we create and show the confusion matrix."
      ]
    },
    {
      "cell_type": "code",
      "metadata": {
        "id": "4_zXnVjBVc3A"
      },
      "source": [
        "y_pred = []\n",
        "for i in range(len(X_test)):\n",
        "  item = X_test.iloc[i]\n",
        "  item = item.replace(\"\\n\",\" \")\n",
        "  z = model_str.predict(item)[0][0][9:]\n",
        "  y_pred.append(z)"
      ],
      "execution_count": null,
      "outputs": []
    },
    {
      "cell_type": "code",
      "metadata": {
        "id": "hwvg0WwRVc3B",
        "colab": {
          "base_uri": "https://localhost:8080/",
          "height": 732
        },
        "outputId": "4bf0c398-5b56-4a14-9e66-1d8239d18783"
      },
      "source": [
        "class_names = y_test.unique()\n",
        "#print confusion matrix\n",
        "print_confusion_matrix(y_test,\n",
        "                           y_pred,\n",
        "                           class_names)"
      ],
      "execution_count": null,
      "outputs": [
        {
          "output_type": "display_data",
          "data": {
            "image/png": "[encoded data removed]",
            "text/plain": [
              "<Figure size 720x504 with 2 Axes>"
            ]
          },
          "metadata": {
            "needs_background": "light"
          }
        },
        {
          "output_type": "execute_result",
          "data": {
            "text/html": [
              "<div>\n",
              "<style scoped>\n",
              "    .dataframe tbody tr th:only-of-type {\n",
              "        vertical-align: middle;\n",
              "    }\n",
              "\n",
              "    .dataframe tbody tr th {\n",
              "        vertical-align: top;\n",
              "    }\n",
              "\n",
              "    .dataframe thead th {\n",
              "        text-align: right;\n",
              "    }\n",
              "</style>\n",
              "<table border=\"1\" class=\"dataframe\">\n",
              "  <thead>\n",
              "    <tr style=\"text-align: right;\">\n",
              "      <th></th>\n",
              "      <th>BACKGROUND</th>\n",
              "      <th>CONCLUSION</th>\n",
              "      <th>METHOD</th>\n",
              "      <th>RESULT</th>\n",
              "      <th>NEITHER</th>\n",
              "      <th>OBJECTIVE</th>\n",
              "    </tr>\n",
              "  </thead>\n",
              "  <tbody>\n",
              "    <tr>\n",
              "      <th>BACKGROUND</th>\n",
              "      <td>290</td>\n",
              "      <td>3</td>\n",
              "      <td>13</td>\n",
              "      <td>24</td>\n",
              "      <td>27</td>\n",
              "      <td>69</td>\n",
              "    </tr>\n",
              "    <tr>\n",
              "      <th>CONCLUSION</th>\n",
              "      <td>90</td>\n",
              "      <td>11</td>\n",
              "      <td>5</td>\n",
              "      <td>20</td>\n",
              "      <td>33</td>\n",
              "      <td>89</td>\n",
              "    </tr>\n",
              "    <tr>\n",
              "      <th>METHOD</th>\n",
              "      <td>53</td>\n",
              "      <td>4</td>\n",
              "      <td>102</td>\n",
              "      <td>21</td>\n",
              "      <td>42</td>\n",
              "      <td>99</td>\n",
              "    </tr>\n",
              "    <tr>\n",
              "      <th>RESULT</th>\n",
              "      <td>15</td>\n",
              "      <td>0</td>\n",
              "      <td>2</td>\n",
              "      <td>127</td>\n",
              "      <td>44</td>\n",
              "      <td>15</td>\n",
              "    </tr>\n",
              "    <tr>\n",
              "      <th>NEITHER</th>\n",
              "      <td>50</td>\n",
              "      <td>3</td>\n",
              "      <td>32</td>\n",
              "      <td>31</td>\n",
              "      <td>193</td>\n",
              "      <td>62</td>\n",
              "    </tr>\n",
              "    <tr>\n",
              "      <th>OBJECTIVE</th>\n",
              "      <td>82</td>\n",
              "      <td>3</td>\n",
              "      <td>42</td>\n",
              "      <td>17</td>\n",
              "      <td>25</td>\n",
              "      <td>372</td>\n",
              "    </tr>\n",
              "  </tbody>\n",
              "</table>\n",
              "</div>"
            ],
            "text/plain": [
              "            BACKGROUND  CONCLUSION  METHOD  RESULT  NEITHER  OBJECTIVE\n",
              "BACKGROUND         290           3      13      24       27         69\n",
              "CONCLUSION          90          11       5      20       33         89\n",
              "METHOD              53           4     102      21       42         99\n",
              "RESULT              15           0       2     127       44         15\n",
              "NEITHER             50           3      32      31      193         62\n",
              "OBJECTIVE           82           3      42      17       25        372"
            ]
          },
          "metadata": {},
          "execution_count": 199
        }
      ]
    }
  ]
}