{
 "cells": [
  {
   "cell_type": "markdown",
   "metadata": {},
   "source": [
    "# Imports / Data"
   ]
  },
  {
   "cell_type": "code",
   "execution_count": 1,
   "metadata": {},
   "outputs": [],
   "source": [
    "import json\n",
    "import pandas as pd\n",
    "import numpy as np\n",
    "from time import time"
   ]
  },
  {
   "cell_type": "code",
   "execution_count": 2,
   "metadata": {},
   "outputs": [],
   "source": [
    "label2id = {\n",
    "    'NEITHER': 0,\n",
    "    'EVIDENCE': 1,\n",
    "    'CLAIM': 2,\n",
    "    'NONE': 0\n",
    "}\n",
    "\n",
    "def load_corpus(path, label_mapping=None):\n",
    "    with open(path) as fp:\n",
    "        corpus = json.load(fp)\n",
    "\n",
    "    documents, texts, labels = [], [], []\n",
    "    for abstract in corpus:\n",
    "        documents.append(abstract)\n",
    "        texts.append(corpus[abstract]['sentences'])\n",
    "        if isinstance(label_mapping, dict):\n",
    "            labels.append(\n",
    "                [label_mapping[str(l).upper()]\n",
    "                    for l in corpus[abstract]['labels']])\n",
    "        else:\n",
    "            labels.append([str(l).upper() for l in corpus[abstract]['labels']])\n",
    "\n",
    "    assert len(texts) == len(labels)\n",
    "    data = pd.DataFrame(\n",
    "        zip(documents, texts, labels),\n",
    "        columns=['document', 'sentences', 'labels'])\n",
    "\n",
    "    return data"
   ]
  },
  {
   "cell_type": "markdown",
   "metadata": {},
   "source": [
    "* Read our 2 datasets and merge them in 1 dataframe"
   ]
  },
  {
   "cell_type": "code",
   "execution_count": 3,
   "metadata": {},
   "outputs": [
    {
     "name": "stdout",
     "output_type": "stream",
     "text": [
      "Dataset 1 length: 1017 abstracts\n",
      "Dataset 2 length: 1669 abstracts\n",
      "Dataset length: 2686 abstracts\n"
     ]
    },
    {
     "data": {
      "text/html": [
       "<div>\n",
       "<style scoped>\n",
       "    .dataframe tbody tr th:only-of-type {\n",
       "        vertical-align: middle;\n",
       "    }\n",
       "\n",
       "    .dataframe tbody tr th {\n",
       "        vertical-align: top;\n",
       "    }\n",
       "\n",
       "    .dataframe thead th {\n",
       "        text-align: right;\n",
       "    }\n",
       "</style>\n",
       "<table border=\"1\" class=\"dataframe\">\n",
       "  <thead>\n",
       "    <tr style=\"text-align: right;\">\n",
       "      <th></th>\n",
       "      <th>document</th>\n",
       "      <th>sentences</th>\n",
       "      <th>labels</th>\n",
       "    </tr>\n",
       "  </thead>\n",
       "  <tbody>\n",
       "    <tr>\n",
       "      <th>0</th>\n",
       "      <td>doi: 10.1001/jamaneurol.2017.2814</td>\n",
       "      <td>[Concordance Between Different Amyloid Immunoa...</td>\n",
       "      <td>[0, 0, 0, 0, 0, 0, 0, 0, 1, 1, 1, 1, 1, 1, 1, ...</td>\n",
       "    </tr>\n",
       "    <tr>\n",
       "      <th>1</th>\n",
       "      <td>doi: 10.1001/jamaneurol.2017.4913</td>\n",
       "      <td>[Association of Changes in Plasma Neurofilamen...</td>\n",
       "      <td>[0, 0, 0, 0, 0, 0, 0, 0, 1, 1, 1, 1, 1, 2, 2, 2]</td>\n",
       "    </tr>\n",
       "    <tr>\n",
       "      <th>2</th>\n",
       "      <td>doi: 10.1002/2015gl067056</td>\n",
       "      <td>[Dynamically triggered slip leading to sustain...</td>\n",
       "      <td>[0, 0, 0, 1, 1, 2]</td>\n",
       "    </tr>\n",
       "  </tbody>\n",
       "</table>\n",
       "</div>"
      ],
      "text/plain": [
       "                            document  \\\n",
       "0  doi: 10.1001/jamaneurol.2017.2814   \n",
       "1  doi: 10.1001/jamaneurol.2017.4913   \n",
       "2          doi: 10.1002/2015gl067056   \n",
       "\n",
       "                                           sentences  \\\n",
       "0  [Concordance Between Different Amyloid Immunoa...   \n",
       "1  [Association of Changes in Plasma Neurofilamen...   \n",
       "2  [Dynamically triggered slip leading to sustain...   \n",
       "\n",
       "                                              labels  \n",
       "0  [0, 0, 0, 0, 0, 0, 0, 0, 1, 1, 1, 1, 1, 1, 1, ...  \n",
       "1   [0, 0, 0, 0, 0, 0, 0, 0, 1, 1, 1, 1, 1, 2, 2, 2]  \n",
       "2                                 [0, 0, 0, 1, 1, 2]  "
      ]
     },
     "execution_count": 3,
     "metadata": {},
     "output_type": "execute_result"
    }
   ],
   "source": [
    "data1 = load_corpus('dataset_aueb_argument_v3.json' , label_mapping=label2id)\n",
    "print(f'Dataset 1 length: {len(data1)} abstracts')\n",
    "\n",
    "data2 = load_corpus('dataset.json' , label_mapping=label2id)\n",
    "print(f'Dataset 2 length: {len(data2)} abstracts')\n",
    "\n",
    "data = data1.append(data2)\n",
    "print(f'Dataset length: {len(data)} abstracts')\n",
    "data.head(3)"
   ]
  },
  {
   "cell_type": "markdown",
   "metadata": {},
   "source": [
    "* Create a datafrme with the 'doc_id' & 'sentences' and a dataframe with the 'doc_id' & 'labels' for each unique sentence in our dataset."
   ]
  },
  {
   "cell_type": "code",
   "execution_count": 4,
   "metadata": {},
   "outputs": [],
   "source": [
    "#@title Split to sentences\n",
    "sentences = data['sentences'].explode().reset_index().rename(\n",
    "    columns={'index': 'doc_id', 'sentences': 'sentence'})\n",
    "sentences.sentence = sentences.sentence.astype(\"string\")\n",
    "sentences.sentence = sentences.sentence.str.strip()\n",
    "\n",
    "#@title and the corresponding labels\n",
    "labels = pd.DataFrame(data['labels'].explode()).reset_index(drop = True).rename(\n",
    "    columns={'labels': 'label'})"
   ]
  },
  {
   "cell_type": "markdown",
   "metadata": {},
   "source": [
    "* Create a dataframe with the splitted sentences and labels"
   ]
  },
  {
   "cell_type": "code",
   "execution_count": 5,
   "metadata": {},
   "outputs": [
    {
     "name": "stdout",
     "output_type": "stream",
     "text": [
      "(32004, 3)\n"
     ]
    },
    {
     "data": {
      "text/html": [
       "<div>\n",
       "<style scoped>\n",
       "    .dataframe tbody tr th:only-of-type {\n",
       "        vertical-align: middle;\n",
       "    }\n",
       "\n",
       "    .dataframe tbody tr th {\n",
       "        vertical-align: top;\n",
       "    }\n",
       "\n",
       "    .dataframe thead th {\n",
       "        text-align: right;\n",
       "    }\n",
       "</style>\n",
       "<table border=\"1\" class=\"dataframe\">\n",
       "  <thead>\n",
       "    <tr style=\"text-align: right;\">\n",
       "      <th></th>\n",
       "      <th>doc_id</th>\n",
       "      <th>sentence</th>\n",
       "      <th>label</th>\n",
       "    </tr>\n",
       "  </thead>\n",
       "  <tbody>\n",
       "    <tr>\n",
       "      <th>20577</th>\n",
       "      <td>783</td>\n",
       "      <td>A Heckman probit model and a multinomial logit...</td>\n",
       "      <td>0</td>\n",
       "    </tr>\n",
       "    <tr>\n",
       "      <th>15540</th>\n",
       "      <td>364</td>\n",
       "      <td>The study suggests that there are positive rel...</td>\n",
       "      <td>2</td>\n",
       "    </tr>\n",
       "    <tr>\n",
       "      <th>9227</th>\n",
       "      <td>931</td>\n",
       "      <td>We report on the use of an existing small bind...</td>\n",
       "      <td>1</td>\n",
       "    </tr>\n",
       "    <tr>\n",
       "      <th>30329</th>\n",
       "      <td>1547</td>\n",
       "      <td>No effects of the intervention were found for ...</td>\n",
       "      <td>2</td>\n",
       "    </tr>\n",
       "    <tr>\n",
       "      <th>862</th>\n",
       "      <td>95</td>\n",
       "      <td>We show that important discrepancies at large-...</td>\n",
       "      <td>2</td>\n",
       "    </tr>\n",
       "  </tbody>\n",
       "</table>\n",
       "</div>"
      ],
      "text/plain": [
       "       doc_id                                           sentence label\n",
       "20577     783  A Heckman probit model and a multinomial logit...     0\n",
       "15540     364  The study suggests that there are positive rel...     2\n",
       "9227      931  We report on the use of an existing small bind...     1\n",
       "30329    1547  No effects of the intervention were found for ...     2\n",
       "862        95  We show that important discrepancies at large-...     2"
      ]
     },
     "execution_count": 5,
     "metadata": {},
     "output_type": "execute_result"
    }
   ],
   "source": [
    "merged_data = pd.concat([sentences,labels['label']], axis = 1)\n",
    "print(merged_data.shape)\n",
    "merged_data.sample(5)"
   ]
  },
  {
   "cell_type": "markdown",
   "metadata": {},
   "source": [
    "* We observe that we have some sentences that are one word, so let's remove them."
   ]
  },
  {
   "cell_type": "code",
   "execution_count": 6,
   "metadata": {},
   "outputs": [
    {
     "data": {
      "text/plain": [
       "(31093, 3)"
      ]
     },
     "execution_count": 6,
     "metadata": {},
     "output_type": "execute_result"
    }
   ],
   "source": [
    "for i in range(len(merged_data)):\n",
    "    if (len(merged_data['sentence'][i].split()) < 2):\n",
    "        merged_data = merged_data.drop(i)\n",
    "        \n",
    "merged_data.reset_index(inplace = True, drop = True)\n",
    "merged_data.shape"
   ]
  },
  {
   "cell_type": "markdown",
   "metadata": {},
   "source": [
    "# Exploratory"
   ]
  },
  {
   "cell_type": "markdown",
   "metadata": {},
   "source": [
    "* 0 means no argument\n",
    "* 1 means Evidence\n",
    "* 2 means Claim"
   ]
  },
  {
   "cell_type": "code",
   "execution_count": 7,
   "metadata": {},
   "outputs": [
    {
     "data": {
      "text/plain": [
       "0    21471\n",
       "1     6203\n",
       "2     3419\n",
       "Name: label, dtype: int64"
      ]
     },
     "execution_count": 7,
     "metadata": {},
     "output_type": "execute_result"
    }
   ],
   "source": [
    "merged_data.label.value_counts()"
   ]
  },
  {
   "cell_type": "code",
   "execution_count": 8,
   "metadata": {},
   "outputs": [
    {
     "data": {
      "text/plain": [
       "<matplotlib.legend.Legend at 0x208f5a4e520>"
      ]
     },
     "execution_count": 8,
     "metadata": {},
     "output_type": "execute_result"
    },
    {
     "data": {
      "image/png": "[encoded data removed]",
      "text/plain": [
       "<Figure size 1152x648 with 1 Axes>"
      ]
     },
     "metadata": {},
     "output_type": "display_data"
    }
   ],
   "source": [
    "import matplotlib.pyplot as plt\n",
    "\n",
    "names = ['No label', 'Evidence', 'Claim']\n",
    "plt.subplots(figsize =(16, 9))\n",
    "plt.pie(merged_data.label.value_counts(), labels = names, autopct='%1.0f%%')\n",
    "plt.legend()"
   ]
  },
  {
   "cell_type": "code",
   "execution_count": 9,
   "metadata": {},
   "outputs": [
    {
     "data": {
      "text/plain": [
       "0    69.05\n",
       "1    19.95\n",
       "2    11.00\n",
       "Name: label, dtype: float64"
      ]
     },
     "execution_count": 9,
     "metadata": {},
     "output_type": "execute_result"
    }
   ],
   "source": [
    "round(merged_data.label.value_counts() / len(merged_data) * 100, 2)"
   ]
  },
  {
   "cell_type": "markdown",
   "metadata": {},
   "source": [
    "* We observe that we almost 70% of our sentences have no label so it is going to make our classifier predict it with higher probability since we have imbalanced dataset\n",
    "\n",
    "\n",
    "* Now let's check for missing values"
   ]
  },
  {
   "cell_type": "code",
   "execution_count": 10,
   "metadata": {},
   "outputs": [
    {
     "data": {
      "text/plain": [
       "doc_id      0\n",
       "sentence    0\n",
       "label       0\n",
       "dtype: int64"
      ]
     },
     "execution_count": 10,
     "metadata": {},
     "output_type": "execute_result"
    }
   ],
   "source": [
    "merged_data.isna().sum()"
   ]
  },
  {
   "cell_type": "markdown",
   "metadata": {},
   "source": [
    "* we have no Na's in our dataset so we can proceed.\n",
    "\n",
    "\n",
    "* Now let's see if we have any duplicate rows."
   ]
  },
  {
   "cell_type": "code",
   "execution_count": 11,
   "metadata": {},
   "outputs": [
    {
     "data": {
      "text/plain": [
       "True"
      ]
     },
     "execution_count": 11,
     "metadata": {},
     "output_type": "execute_result"
    }
   ],
   "source": [
    "merged_data['sentence'].duplicated().any()"
   ]
  },
  {
   "cell_type": "markdown",
   "metadata": {},
   "source": [
    "* We have duplicates so let's remove them."
   ]
  },
  {
   "cell_type": "code",
   "execution_count": 12,
   "metadata": {},
   "outputs": [
    {
     "name": "stdout",
     "output_type": "stream",
     "text": [
      "Shape before removing duplicates:  (31093, 3)\n",
      "Shape after removing duplicates:  (30862, 3)\n",
      "Rows Removed:  231\n"
     ]
    }
   ],
   "source": [
    "print('Shape before removing duplicates: ', merged_data.shape)\n",
    "a = merged_data.shape[0]\n",
    "merged_data.drop_duplicates(subset=['sentence'], inplace=True)\n",
    "print('Shape after removing duplicates: ', merged_data.shape)\n",
    "print('Rows Removed: ', a - merged_data.shape[0])\n",
    "\n",
    "merged_data.reset_index(drop=True, inplace = True)"
   ]
  },
  {
   "cell_type": "markdown",
   "metadata": {},
   "source": [
    "* Labels Distribution"
   ]
  },
  {
   "cell_type": "code",
   "execution_count": 13,
   "metadata": {},
   "outputs": [
    {
     "data": {
      "text/plain": [
       "<BarContainer object of 3 artists>"
      ]
     },
     "execution_count": 13,
     "metadata": {},
     "output_type": "execute_result"
    },
    {
     "data": {
      "image/png": "[encoded data removed]",
      "text/plain": [
       "<Figure size 432x288 with 1 Axes>"
      ]
     },
     "metadata": {
      "needs_background": "light"
     },
     "output_type": "display_data"
    }
   ],
   "source": [
    "import matplotlib.pyplot as plt\n",
    "names = ['No label', 'Evidence', 'Claim']\n",
    "plt.bar(names, merged_data.label.value_counts())"
   ]
  },
  {
   "cell_type": "markdown",
   "metadata": {},
   "source": [
    "# Data preprocessing"
   ]
  },
  {
   "cell_type": "markdown",
   "metadata": {},
   "source": [
    "* Let's assign our X and y"
   ]
  },
  {
   "cell_type": "code",
   "execution_count": 14,
   "metadata": {},
   "outputs": [],
   "source": [
    "X = merged_data['sentence']\n",
    "y = merged_data['label']"
   ]
  },
  {
   "cell_type": "markdown",
   "metadata": {},
   "source": [
    "* Tokenize and remove stopwords"
   ]
  },
  {
   "cell_type": "code",
   "execution_count": 15,
   "metadata": {},
   "outputs": [
    {
     "name": "stdout",
     "output_type": "stream",
     "text": [
      "['i', 'me', 'my', 'myself', 'we', 'our', 'ours', 'ourselves', 'you', \"you're\"]\n"
     ]
    },
    {
     "data": {
      "text/plain": [
       "[['Concordance',\n",
       "  'Between',\n",
       "  'Different',\n",
       "  'Amyloid',\n",
       "  'Immunoassays',\n",
       "  'and',\n",
       "  'Visual',\n",
       "  'Amyloid',\n",
       "  'Positron',\n",
       "  'Emission',\n",
       "  'Tomographic',\n",
       "  'Assessment'],\n",
       " ['Importance',\n",
       "  'Visual',\n",
       "  'assessment',\n",
       "  'of',\n",
       "  'amyloid',\n",
       "  'positron',\n",
       "  'emission',\n",
       "  'tomographic',\n",
       "  '(',\n",
       "  'PET',\n",
       "  ')',\n",
       "  'images',\n",
       "  'has',\n",
       "  'been',\n",
       "  'approved',\n",
       "  'by',\n",
       "  'regulatory',\n",
       "  'authorities',\n",
       "  'for',\n",
       "  'clinical',\n",
       "  'use',\n",
       "  '.']]"
      ]
     },
     "execution_count": 15,
     "metadata": {},
     "output_type": "execute_result"
    }
   ],
   "source": [
    "from nltk import word_tokenize\n",
    "from nltk.corpus import stopwords\n",
    "import nltk\n",
    "\n",
    "tokens = [word_tokenize(sentence) for sentence in X]\n",
    "\n",
    "stopwords = stopwords.words('english')\n",
    "print(stopwords[:10])\n",
    "\n",
    "no_stops = [word for word in tokens if word not in stopwords]\n",
    "no_stops[:2]"
   ]
  },
  {
   "cell_type": "markdown",
   "metadata": {},
   "source": [
    "* Lemmatization"
   ]
  },
  {
   "cell_type": "code",
   "execution_count": 16,
   "metadata": {},
   "outputs": [
    {
     "data": {
      "text/plain": [
       "[['Concordance',\n",
       "  'Between',\n",
       "  'Different',\n",
       "  'Amyloid',\n",
       "  'Immunoassays',\n",
       "  'and',\n",
       "  'Visual',\n",
       "  'Amyloid',\n",
       "  'Positron',\n",
       "  'Emission',\n",
       "  'Tomographic',\n",
       "  'Assessment'],\n",
       " ['Importance',\n",
       "  'Visual',\n",
       "  'assessment',\n",
       "  'of',\n",
       "  'amyloid',\n",
       "  'positron',\n",
       "  'emission',\n",
       "  'tomographic',\n",
       "  '(',\n",
       "  'PET',\n",
       "  ')',\n",
       "  'image',\n",
       "  'ha',\n",
       "  'been',\n",
       "  'approved',\n",
       "  'by',\n",
       "  'regulatory',\n",
       "  'authority',\n",
       "  'for',\n",
       "  'clinical',\n",
       "  'use',\n",
       "  '.']]"
      ]
     },
     "execution_count": 16,
     "metadata": {},
     "output_type": "execute_result"
    }
   ],
   "source": [
    "lemmatizer = nltk.stem.WordNetLemmatizer()\n",
    "\n",
    "lemmatized_words = []\n",
    "for i in range(len(no_stops)):\n",
    "    lemmatized_words.append([lemmatizer.lemmatize(w) for w in no_stops[i]])\n",
    "\n",
    "lemmatized_words[:2]"
   ]
  },
  {
   "cell_type": "code",
   "execution_count": 17,
   "metadata": {},
   "outputs": [],
   "source": [
    "for i in range(len(lemmatized_words)):\n",
    "    X[i] = ' '.join(lemmatized_words[i])"
   ]
  },
  {
   "cell_type": "markdown",
   "metadata": {},
   "source": [
    "* Create a function to clean our dataset"
   ]
  },
  {
   "cell_type": "code",
   "execution_count": 18,
   "metadata": {},
   "outputs": [],
   "source": [
    "import re\n",
    "\n",
    "def clean_text(text):\n",
    "    \"\"\"\n",
    "    Pre process and convert texts to a list of words\n",
    "    :param text:\n",
    "    :return:\n",
    "    \"\"\"\n",
    "\n",
    "    text = str(text)\n",
    "    text = text.lower()\n",
    "\n",
    "    # Clean the text\n",
    "    text = re.sub(r\"[^A-Za-z0-9^,!.\\/'+-=]\", \" \", text)\n",
    "    text = re.sub(r\"what's\", \"what is \", text)\n",
    "    text = re.sub(r\"\\'s\", \" \", text)\n",
    "    text = re.sub(r\"\\'ve\", \" have \", text)\n",
    "    text = re.sub(r\"can't\", \"cannot \", text)\n",
    "    text = re.sub(r\"n't\", \" not \", text)\n",
    "    text = re.sub(r\"i'm\", \"i am \", text)\n",
    "    text = re.sub(r\"\\'re\", \" are \", text)\n",
    "    text = re.sub(r\"\\'d\", \" would \", text)\n",
    "    text = re.sub(r\"\\'ll\", \" will \", text)\n",
    "    text = re.sub(r\",\", \" \", text)\n",
    "    text = re.sub(r\"\\.\", \" \", text)\n",
    "    text = re.sub(r\"!\", \" \", text)\n",
    "    text = re.sub(r\"\\/\", \" \", text)\n",
    "    text = re.sub(r\"\\^\", \" \", text)\n",
    "    text = re.sub(r\"\\+\", \" \", text)\n",
    "    text = re.sub(r\"\\-\", \" \", text)\n",
    "    text = re.sub(r\"\\=\", \" \", text)\n",
    "    text = re.sub(r\"'\", \" \", text)\n",
    "    text = re.sub(r\"(\\d+)(k)\", r\"\\g<1>000\", text)\n",
    "    text = re.sub(r\":\", \" \", text)\n",
    "    text = re.sub(r\" e g \", \" eg \", text)\n",
    "    text = re.sub(r\" b g \", \" bg \", text)\n",
    "    text = re.sub(r\" u s \", \" american \", text)\n",
    "    text = re.sub(r\"\\0s\", \"0\", text)\n",
    "    text = re.sub(r\" 9 11 \", \"911\", text)\n",
    "    text = re.sub(r\"e - mail\", \"email\", text)\n",
    "    text = re.sub(r\"j k\", \"jk\", text)\n",
    "    text = re.sub(r\"\\s{2,}\", \" \", text)\n",
    "\n",
    "    return text"
   ]
  },
  {
   "cell_type": "markdown",
   "metadata": {},
   "source": [
    "* Let's have a look at a sentence before cleaning"
   ]
  },
  {
   "cell_type": "code",
   "execution_count": 19,
   "metadata": {},
   "outputs": [
    {
     "data": {
      "text/plain": [
       "'This result is achieved through novel cross-link agent made by boron- and fluorine-containing heterocycle that can react between themselves upon UV- and white-light exposure .'"
      ]
     },
     "execution_count": 19,
     "metadata": {},
     "output_type": "execute_result"
    }
   ],
   "source": [
    "X[107]"
   ]
  },
  {
   "cell_type": "markdown",
   "metadata": {},
   "source": [
    "* Apply the clean function we created to clean our text"
   ]
  },
  {
   "cell_type": "code",
   "execution_count": 20,
   "metadata": {},
   "outputs": [],
   "source": [
    "X = pd.DataFrame(X)\n",
    "X['sentence']=X['sentence'].apply(clean_text)"
   ]
  },
  {
   "cell_type": "markdown",
   "metadata": {},
   "source": [
    "* Let's have a look again at our X before proceeding."
   ]
  },
  {
   "cell_type": "code",
   "execution_count": 21,
   "metadata": {},
   "outputs": [
    {
     "data": {
      "text/plain": [
       "'this result is achieved through novel cross link agent made by boron and fluorine containing heterocycle that can react between themselves upon uv and white light exposure '"
      ]
     },
     "execution_count": 21,
     "metadata": {},
     "output_type": "execute_result"
    }
   ],
   "source": [
    "X['sentence'][107]"
   ]
  },
  {
   "cell_type": "markdown",
   "metadata": {},
   "source": [
    "### Splitting Dataset Procedure\n",
    "\n",
    "\n",
    "* We split the dataset to 80% train and 20% test.\n",
    "* We use a random state in order to split the same every time we run the code.\n",
    "* We use stratification in order to have equal representation of all labels in both datasets."
   ]
  },
  {
   "cell_type": "code",
   "execution_count": 22,
   "metadata": {},
   "outputs": [],
   "source": [
    "from sklearn.model_selection import train_test_split\n",
    "x_train, x_test, y_train, y_test = train_test_split(X['sentence'],\n",
    "                                                    y,\n",
    "                                                    test_size=0.20,\n",
    "                                                    random_state=42,\n",
    "                                                    stratify=y)"
   ]
  },
  {
   "cell_type": "code",
   "execution_count": 23,
   "metadata": {},
   "outputs": [
    {
     "name": "stdout",
     "output_type": "stream",
     "text": [
      "0    68.97\n",
      "1    20.00\n",
      "2    11.03\n",
      "Name: label, dtype: float64\n"
     ]
    },
    {
     "data": {
      "text/plain": [
       "0    68.98\n",
       "1    19.99\n",
       "2    11.03\n",
       "Name: label, dtype: float64"
      ]
     },
     "execution_count": 23,
     "metadata": {},
     "output_type": "execute_result"
    }
   ],
   "source": [
    "print(round(y_train.value_counts() / len(y_train) * 100, 2))\n",
    "round(y_test.value_counts() / len(y_test) * 100, 2)"
   ]
  },
  {
   "cell_type": "markdown",
   "metadata": {},
   "source": [
    "* We observe that the stratification was successful so let's proceed.\n",
    "\n",
    "\n",
    "* Let's create a dataframe with the senteces and their corresponding labels of our train dataset."
   ]
  },
  {
   "cell_type": "code",
   "execution_count": 24,
   "metadata": {},
   "outputs": [
    {
     "data": {
      "text/html": [
       "<div>\n",
       "<style scoped>\n",
       "    .dataframe tbody tr th:only-of-type {\n",
       "        vertical-align: middle;\n",
       "    }\n",
       "\n",
       "    .dataframe tbody tr th {\n",
       "        vertical-align: top;\n",
       "    }\n",
       "\n",
       "    .dataframe thead th {\n",
       "        text-align: right;\n",
       "    }\n",
       "</style>\n",
       "<table border=\"1\" class=\"dataframe\">\n",
       "  <thead>\n",
       "    <tr style=\"text-align: right;\">\n",
       "      <th></th>\n",
       "      <th>sentence</th>\n",
       "      <th>label</th>\n",
       "    </tr>\n",
       "  </thead>\n",
       "  <tbody>\n",
       "    <tr>\n",
       "      <th>30013</th>\n",
       "      <td>patients who failed previous monotherapy remai...</td>\n",
       "      <td>1</td>\n",
       "    </tr>\n",
       "    <tr>\n",
       "      <th>14079</th>\n",
       "      <td>introduction pediatric road traffic injury rem...</td>\n",
       "      <td>0</td>\n",
       "    </tr>\n",
       "    <tr>\n",
       "      <th>1548</th>\n",
       "      <td>here we report the rationalization of the high...</td>\n",
       "      <td>0</td>\n",
       "    </tr>\n",
       "    <tr>\n",
       "      <th>24046</th>\n",
       "      <td>similar result were found for low dose radioio...</td>\n",
       "      <td>1</td>\n",
       "    </tr>\n",
       "    <tr>\n",
       "      <th>28067</th>\n",
       "      <td>large scale clinical trial have shown that inc...</td>\n",
       "      <td>1</td>\n",
       "    </tr>\n",
       "  </tbody>\n",
       "</table>\n",
       "</div>"
      ],
      "text/plain": [
       "                                                sentence label\n",
       "30013  patients who failed previous monotherapy remai...     1\n",
       "14079  introduction pediatric road traffic injury rem...     0\n",
       "1548   here we report the rationalization of the high...     0\n",
       "24046  similar result were found for low dose radioio...     1\n",
       "28067  large scale clinical trial have shown that inc...     1"
      ]
     },
     "execution_count": 24,
     "metadata": {},
     "output_type": "execute_result"
    }
   ],
   "source": [
    "df = pd.DataFrame(x_train)\n",
    "df.columns = ['sentence']\n",
    "df[\"label\"] = y_train\n",
    "df['sentence'] = df.sentence.str.strip()\n",
    "df.head(5)"
   ]
  },
  {
   "cell_type": "markdown",
   "metadata": {},
   "source": [
    "# Feed Forwards Network Using Keras Tokenizer & max words"
   ]
  },
  {
   "cell_type": "markdown",
   "metadata": {},
   "source": [
    "* Create our tokenizer, fit it on our train dataset and convert our train and test datasets to sequences using our tokenizer."
   ]
  },
  {
   "cell_type": "code",
   "execution_count": 25,
   "metadata": {},
   "outputs": [],
   "source": [
    "from tensorflow.python.keras.preprocessing.text import Tokenizer\n",
    "\n",
    "max_words = 10_000  # We will only consider the 10K most used words in this dataset\n",
    "\n",
    "# Setting up Keras tokenizer\n",
    "abstracts_tokenizer = Tokenizer(num_words=max_words, lower=True, oov_token='<OOV>')\n",
    "\n",
    "# Fitting the tokenizer on the train dataset only\n",
    "abstracts_tokenizer.fit_on_texts(x_train)  # Generate tokens by counting frequency\n",
    "\n",
    "# convert our train dataset to sequences\n",
    "X_train = abstracts_tokenizer.texts_to_sequences(x_train)\n",
    "\n",
    "# convert our test dataset to sequences as well\n",
    "X_test = abstracts_tokenizer.texts_to_sequences(x_test)"
   ]
  },
  {
   "cell_type": "markdown",
   "metadata": {},
   "source": [
    "* Let's see the 1st row of our sequences"
   ]
  },
  {
   "cell_type": "code",
   "execution_count": 26,
   "metadata": {},
   "outputs": [
    {
     "name": "stdout",
     "output_type": "stream",
     "text": [
      "[208, 106, 2227, 575, 1373, 1040, 15, 107, 699, 189, 4396, 6, 397]\n"
     ]
    },
    {
     "data": {
      "text/plain": [
       "[2695, 1534, 4, 6358, 1, 124, 1905, 30]"
      ]
     },
     "execution_count": 26,
     "metadata": {},
     "output_type": "execute_result"
    }
   ],
   "source": [
    "print(X_train[0])\n",
    "X_test[0]"
   ]
  },
  {
   "cell_type": "code",
   "execution_count": 27,
   "metadata": {},
   "outputs": [
    {
     "name": "stdout",
     "output_type": "stream",
     "text": [
      "24689 train sequences\n",
      "6173 test sequences\n",
      "\n",
      "Classes: \n",
      "[0, 1, 2]\n",
      "3 classes\n"
     ]
    }
   ],
   "source": [
    "print(len(X_train), 'train sequences')\n",
    "print(len(X_test), 'test sequences', end='\\n\\n')\n",
    "\n",
    "print('Classes: ')\n",
    "print(sorted(set(y_train)))\n",
    "\n",
    "# print the number of total distinct classes\n",
    "nb_classes = np.max(y_train) + 1\n",
    "\n",
    "print(nb_classes, 'classes')"
   ]
  },
  {
   "cell_type": "markdown",
   "metadata": {},
   "source": [
    "### Convert Sequential Data (X) to One-Hot Vectors"
   ]
  },
  {
   "cell_type": "code",
   "execution_count": 28,
   "metadata": {},
   "outputs": [
    {
     "name": "stdout",
     "output_type": "stream",
     "text": [
      "X_train shape: (24689, 10000)\n",
      "X_train example:\n",
      "\n",
      "[0. 0. 0. ... 0. 0. 0.]\n"
     ]
    }
   ],
   "source": [
    "tokenizer = Tokenizer(num_words=max_words)\n",
    "\n",
    "# Each feature set is a multi-hot vector  \n",
    "X_train = tokenizer.sequences_to_matrix(X_train, \n",
    "                                        mode='binary')\n",
    "\n",
    "print('X_train shape:', X_train.shape)\n",
    "print('X_train example:', end='\\n\\n')\n",
    "\n",
    "print(X_train[0])"
   ]
  },
  {
   "cell_type": "code",
   "execution_count": 29,
   "metadata": {},
   "outputs": [
    {
     "name": "stdout",
     "output_type": "stream",
     "text": [
      "X_test shape: (6173, 10000)\n",
      "X_test example:\n",
      "\n",
      "[0. 1. 0. ... 0. 0. 0.]\n"
     ]
    }
   ],
   "source": [
    "X_test = tokenizer.sequences_to_matrix(X_test,\n",
    "                                       mode='binary')\n",
    "\n",
    "print('X_test shape:', X_test.shape)\n",
    "print('X_test example:', end='\\n\\n')\n",
    "\n",
    "print(X_test[0])"
   ]
  },
  {
   "cell_type": "markdown",
   "metadata": {},
   "source": [
    "### Labels Encoding"
   ]
  },
  {
   "cell_type": "code",
   "execution_count": 30,
   "metadata": {},
   "outputs": [
    {
     "name": "stdout",
     "output_type": "stream",
     "text": [
      "Convert class vector to binary class matrix (for use with categorical_crossentropy)\n",
      "Y_train shape: (24689, 3)\n",
      "Y_test shape: (6173, 3)\n"
     ]
    }
   ],
   "source": [
    "from tensorflow.keras.utils import to_categorical\n",
    "\n",
    "print('Convert class vector to binary class matrix (for use with categorical_crossentropy)')\n",
    "\n",
    "# to_categorical() function converts the labels to one_hot_encoding\n",
    "Y_train = to_categorical(y_train, nb_classes)\n",
    "\n",
    "Y_test = to_categorical(y_test, nb_classes)\n",
    "\n",
    "print('Y_train shape:', Y_train.shape)\n",
    "\n",
    "print('Y_test shape:', Y_test.shape)"
   ]
  },
  {
   "cell_type": "markdown",
   "metadata": {},
   "source": [
    "# Model Build and Fit"
   ]
  },
  {
   "cell_type": "code",
   "execution_count": 31,
   "metadata": {},
   "outputs": [
    {
     "name": "stderr",
     "output_type": "stream",
     "text": [
      "C:\\Users\\thanp\\anaconda3\\lib\\site-packages\\sklearn\\utils\\validation.py:68: FutureWarning: Pass classes=[0 1 2], y=30013    1\n",
      "14079    0\n",
      "1548     0\n",
      "24046    1\n",
      "28067    1\n",
      "        ..\n",
      "14221    1\n",
      "18416    1\n",
      "21237    0\n",
      "11864    0\n",
      "7112     0\n",
      "Name: label, Length: 24689, dtype: object as keyword args. From version 0.25 passing these as positional arguments will result in an error\n",
      "  warnings.warn(\"Pass {} as keyword args. From version 0.25 \"\n"
     ]
    },
    {
     "data": {
      "text/plain": [
       "array([0.48330201, 1.66693674, 3.02116985])"
      ]
     },
     "execution_count": 31,
     "metadata": {},
     "output_type": "execute_result"
    }
   ],
   "source": [
    "from sklearn.utils import class_weight\n",
    "class_weights = class_weight.compute_class_weight('balanced',\n",
    "                                                 np.unique(y_train),\n",
    "                                                 y_train)   #the class weights are calculated\n",
    "\n",
    "class_weights"
   ]
  },
  {
   "cell_type": "code",
   "execution_count": 32,
   "metadata": {},
   "outputs": [],
   "source": [
    "# Some parameters that we will use:\n",
    "\n",
    "# define the batch size\n",
    "batch_size = 32\n",
    "\n",
    "# define number of epochs\n",
    "nb_epoch = 20"
   ]
  },
  {
   "cell_type": "code",
   "execution_count": 33,
   "metadata": {},
   "outputs": [
    {
     "name": "stdout",
     "output_type": "stream",
     "text": [
      "Model: \"sequential\"\n",
      "_________________________________________________________________\n",
      "Layer (type)                 Output Shape              Param #   \n",
      "=================================================================\n",
      "dense (Dense)                (None, 512)               5120512   \n",
      "_________________________________________________________________\n",
      "batch_normalization (BatchNo (None, 512)               2048      \n",
      "_________________________________________________________________\n",
      "activation (Activation)      (None, 512)               0         \n",
      "_________________________________________________________________\n",
      "dropout (Dropout)            (None, 512)               0         \n",
      "_________________________________________________________________\n",
      "dense_1 (Dense)              (None, 256)               131328    \n",
      "_________________________________________________________________\n",
      "activation_1 (Activation)    (None, 256)               0         \n",
      "_________________________________________________________________\n",
      "batch_normalization_1 (Batch (None, 256)               1024      \n",
      "_________________________________________________________________\n",
      "dropout_1 (Dropout)          (None, 256)               0         \n",
      "_________________________________________________________________\n",
      "dense_2 (Dense)              (None, 3)                 771       \n",
      "_________________________________________________________________\n",
      "batch_normalization_2 (Batch (None, 3)                 12        \n",
      "_________________________________________________________________\n",
      "activation_2 (Activation)    (None, 3)                 0         \n",
      "=================================================================\n",
      "Total params: 5,255,695\n",
      "Trainable params: 5,254,153\n",
      "Non-trainable params: 1,542\n",
      "_________________________________________________________________\n",
      "None\n"
     ]
    }
   ],
   "source": [
    "from tensorflow.keras.models import Sequential\n",
    "from tensorflow.keras.layers import Dense, Dropout, Activation, BatchNormalization\n",
    "\n",
    "# define an empty sequential structure \n",
    "MLP_model = Sequential()\n",
    "\n",
    "# add a dense layer (MLP)  (512 neurons)\n",
    "MLP_model.add(Dense(512, input_shape=(max_words,)))\n",
    "#Add a Batch Normalization\n",
    "MLP_model.add(BatchNormalization())\n",
    "# use a relu activation on MLP's outputs\n",
    "MLP_model.add(Activation('relu'))\n",
    "# use a dropout layer with with 50% of inputs droped\n",
    "MLP_model.add(Dropout(0.5))\n",
    "\n",
    "# add a dense layer (MLP)  (256 neurons)\n",
    "MLP_model.add(Dense(256))\n",
    "# use a relu activation on MLP's outputs\n",
    "MLP_model.add(Activation('relu'))\n",
    "#Add a Batch Normalization\n",
    "MLP_model.add(BatchNormalization())\n",
    "# use a dropout layer with with 50% of inputs droped\n",
    "MLP_model.add(Dropout(0.5))\n",
    "\n",
    "# add a dense layer (MLP) \n",
    "MLP_model.add(Dense(nb_classes))\n",
    "#Add a Batch Normalization\n",
    "MLP_model.add(BatchNormalization())\n",
    "# use a softmax activation on 3nd MLP's outputs\n",
    "MLP_model.add(Activation('softmax'))\n",
    "\n",
    "# print model layers' info\n",
    "print(MLP_model.summary())"
   ]
  },
  {
   "cell_type": "markdown",
   "metadata": {},
   "source": [
    "### Compiling the model"
   ]
  },
  {
   "cell_type": "code",
   "execution_count": 34,
   "metadata": {},
   "outputs": [],
   "source": [
    "from tensorflow.keras import metrics\n",
    "\n",
    "# we compile the model \n",
    "# using categorical crossentropy as a loss function\n",
    "# and stochastic gradient descend as an optimizer\n",
    "# Finally we measure Mean Absolute Error and Accuracy metrics\n",
    "MLP_model.compile(\n",
    "    loss='categorical_crossentropy',\n",
    "    optimizer='sgd',\n",
    "    metrics=[\n",
    "        metrics.mae,\n",
    "        metrics.categorical_accuracy\n",
    "    ],\n",
    ")"
   ]
  },
  {
   "cell_type": "markdown",
   "metadata": {},
   "source": [
    "* Create our callbacks"
   ]
  },
  {
   "cell_type": "code",
   "execution_count": 35,
   "metadata": {},
   "outputs": [],
   "source": [
    "from tensorflow.python.keras.callbacks import EarlyStopping\n",
    "\n",
    "monitor = 'val_loss'\n",
    "\n",
    "model_fname = 'MLP_model.h5'\n",
    "\n",
    "callbacks = [\n",
    "    \n",
    "    # Stop training when a monitored quantity has stopped improving.\n",
    "    EarlyStopping(monitor=monitor,\n",
    "                  patience=5,\n",
    "                  verbose=1, #it is used to count from 1 to 5\n",
    "                  restore_best_weights=True), #It is used to keep the weights of the last epoch we had a decrease\n",
    "                                              #in validation loss\n",
    "\n",
    "]"
   ]
  },
  {
   "cell_type": "markdown",
   "metadata": {},
   "source": [
    "### Model Fit"
   ]
  },
  {
   "cell_type": "code",
   "execution_count": 36,
   "metadata": {},
   "outputs": [
    {
     "name": "stdout",
     "output_type": "stream",
     "text": [
      "WARNING:tensorflow:From C:\\Users\\thanp\\anaconda3\\lib\\site-packages\\tensorflow\\python\\ops\\array_ops.py:5043: calling gather (from tensorflow.python.ops.array_ops) with validate_indices is deprecated and will be removed in a future version.\n",
      "Instructions for updating:\n",
      "The `validate_indices` argument has no effect. Indices are always validated on CPU and never validated on GPU.\n",
      "Epoch 1/20\n",
      "695/695 [==============================] - 22s 29ms/step - loss: 0.9282 - mean_absolute_error: 0.3724 - categorical_accuracy: 0.5422 - val_loss: 0.8379 - val_mean_absolute_error: 0.3453 - val_categorical_accuracy: 0.6626\n",
      "Epoch 2/20\n",
      "695/695 [==============================] - 22s 31ms/step - loss: 0.7663 - mean_absolute_error: 0.3282 - categorical_accuracy: 0.6502 - val_loss: 0.7742 - val_mean_absolute_error: 0.3117 - val_categorical_accuracy: 0.6889\n",
      "Epoch 3/20\n",
      "695/695 [==============================] - 21s 30ms/step - loss: 0.6898 - mean_absolute_error: 0.2982 - categorical_accuracy: 0.6961 - val_loss: 0.6995 - val_mean_absolute_error: 0.2796 - val_categorical_accuracy: 0.7201\n",
      "Epoch 4/20\n",
      "695/695 [==============================] - 22s 31ms/step - loss: 0.6271 - mean_absolute_error: 0.2734 - categorical_accuracy: 0.7229 - val_loss: 0.6710 - val_mean_absolute_error: 0.2585 - val_categorical_accuracy: 0.7396\n",
      "Epoch 5/20\n",
      "695/695 [==============================] - 22s 31ms/step - loss: 0.5774 - mean_absolute_error: 0.2553 - categorical_accuracy: 0.7386 - val_loss: 0.6697 - val_mean_absolute_error: 0.2507 - val_categorical_accuracy: 0.7331\n",
      "Epoch 6/20\n",
      "695/695 [==============================] - 20s 29ms/step - loss: 0.5327 - mean_absolute_error: 0.2379 - categorical_accuracy: 0.7631 - val_loss: 0.6697 - val_mean_absolute_error: 0.2406 - val_categorical_accuracy: 0.7416\n",
      "Epoch 7/20\n",
      "695/695 [==============================] - 21s 30ms/step - loss: 0.4808 - mean_absolute_error: 0.2209 - categorical_accuracy: 0.7808 - val_loss: 0.6604 - val_mean_absolute_error: 0.2326 - val_categorical_accuracy: 0.7465\n",
      "Epoch 8/20\n",
      "695/695 [==============================] - 22s 32ms/step - loss: 0.4413 - mean_absolute_error: 0.2059 - categorical_accuracy: 0.7943 - val_loss: 0.6846 - val_mean_absolute_error: 0.2322 - val_categorical_accuracy: 0.7404\n",
      "Epoch 9/20\n",
      "695/695 [==============================] - 20s 29ms/step - loss: 0.4058 - mean_absolute_error: 0.1922 - categorical_accuracy: 0.8069 - val_loss: 0.6633 - val_mean_absolute_error: 0.2180 - val_categorical_accuracy: 0.7554\n",
      "Epoch 10/20\n",
      "695/695 [==============================] - 19s 27ms/step - loss: 0.3743 - mean_absolute_error: 0.1798 - categorical_accuracy: 0.8225 - val_loss: 0.6767 - val_mean_absolute_error: 0.2142 - val_categorical_accuracy: 0.7525\n",
      "Epoch 11/20\n",
      "695/695 [==============================] - 19s 28ms/step - loss: 0.3484 - mean_absolute_error: 0.1685 - categorical_accuracy: 0.8343 - val_loss: 0.6889 - val_mean_absolute_error: 0.2123 - val_categorical_accuracy: 0.7469\n",
      "Epoch 12/20\n",
      "695/695 [==============================] - 21s 31ms/step - loss: 0.3215 - mean_absolute_error: 0.1584 - categorical_accuracy: 0.8479 - val_loss: 0.6511 - val_mean_absolute_error: 0.1940 - val_categorical_accuracy: 0.7594\n",
      "Epoch 13/20\n",
      "695/695 [==============================] - 21s 30ms/step - loss: 0.2900 - mean_absolute_error: 0.1451 - categorical_accuracy: 0.8660 - val_loss: 0.7082 - val_mean_absolute_error: 0.2080 - val_categorical_accuracy: 0.7347\n",
      "Epoch 14/20\n",
      "695/695 [==============================] - 21s 31ms/step - loss: 0.2807 - mean_absolute_error: 0.1388 - categorical_accuracy: 0.8696 - val_loss: 0.6822 - val_mean_absolute_error: 0.1913 - val_categorical_accuracy: 0.7546\n",
      "Epoch 15/20\n",
      "695/695 [==============================] - 20s 28ms/step - loss: 0.2560 - mean_absolute_error: 0.1295 - categorical_accuracy: 0.8793 - val_loss: 0.6817 - val_mean_absolute_error: 0.1924 - val_categorical_accuracy: 0.7586\n",
      "Epoch 16/20\n",
      "695/695 [==============================] - 21s 30ms/step - loss: 0.2397 - mean_absolute_error: 0.1226 - categorical_accuracy: 0.8855 - val_loss: 0.7005 - val_mean_absolute_error: 0.1878 - val_categorical_accuracy: 0.7582\n",
      "Epoch 17/20\n",
      "695/695 [==============================] - 18s 27ms/step - loss: 0.2240 - mean_absolute_error: 0.1146 - categorical_accuracy: 0.8963 - val_loss: 0.7062 - val_mean_absolute_error: 0.1830 - val_categorical_accuracy: 0.7578\n",
      "Restoring model weights from the end of the best epoch.\n",
      "Epoch 00017: early stopping\n"
     ]
    }
   ],
   "source": [
    "# We train our model\n",
    "history = MLP_model.fit(\n",
    "    X_train,                      # features\n",
    "    Y_train,                      # labels\n",
    "    epochs=nb_epoch,              # numbers of epochs\n",
    "    batch_size=batch_size,        # define batch size\n",
    "    verbose=1,                    # the most extended verbose\n",
    "    validation_split=0.1,\n",
    "    callbacks=callbacks,          \n",
    "    class_weight={0:0.48330201 , 1: 1.66693674, 2:3.02116985}\n",
    ")"
   ]
  },
  {
   "cell_type": "markdown",
   "metadata": {},
   "source": [
    "* Plot the history of our fitted model"
   ]
  },
  {
   "cell_type": "code",
   "execution_count": 37,
   "metadata": {},
   "outputs": [
    {
     "data": {
      "image/png": "[encoded data removed]",
      "text/plain": [
       "<Figure size 864x432 with 1 Axes>"
      ]
     },
     "metadata": {
      "needs_background": "light"
     },
     "output_type": "display_data"
    },
    {
     "data": {
      "image/png": "[encoded data removed]",
      "text/plain": [
       "<Figure size 864x432 with 1 Axes>"
      ]
     },
     "metadata": {
      "needs_background": "light"
     },
     "output_type": "display_data"
    },
    {
     "data": {
      "image/png": "[encoded data removed]",
      "text/plain": [
       "<Figure size 864x432 with 1 Axes>"
      ]
     },
     "metadata": {
      "needs_background": "light"
     },
     "output_type": "display_data"
    }
   ],
   "source": [
    "import matplotlib.pyplot as plt\n",
    "\n",
    "%matplotlib inline\n",
    "\n",
    "def plot_keras_history(history):\n",
    "    \"\"\"\n",
    "    \n",
    "    :param history: \n",
    "    :return: \n",
    "    \"\"\"\n",
    "    # the history object gives the metrics keys. \n",
    "    # we will store the metrics keys that are from the training sesion.\n",
    "    metrics_names = [key for key in history.history.keys() if not key.startswith('val_')]\n",
    "\n",
    "    for i, metric in enumerate(metrics_names):\n",
    "        \n",
    "        # getting the training values\n",
    "        metric_train_values = history.history.get(metric, [])\n",
    "        \n",
    "        # getting the validation values\n",
    "        metric_val_values = history.history.get(\"val_{}\".format(metric), [])\n",
    "\n",
    "        # As loss always exists as a metric we use it to find the \n",
    "        epochs = range(1, len(metric_train_values) + 1)\n",
    "        \n",
    "        # leaving extra spaces to allign with the validation text\n",
    "        training_text = \"   Training {}: {:.5f}\".format(metric,\n",
    "                                                        metric_train_values[-1])\n",
    "\n",
    "        # metric\n",
    "        plt.figure(i, figsize=(12, 6))\n",
    "\n",
    "        plt.plot(epochs,\n",
    "                 metric_train_values,\n",
    "                 'b',\n",
    "                 label=training_text)\n",
    "        \n",
    "        # if we validation metric exists, then plot that as well\n",
    "        if metric_val_values:\n",
    "            validation_text = \"Validation {}: {:.5f}\".format(metric,\n",
    "                                                             metric_val_values[-1])\n",
    "\n",
    "            plt.plot(epochs,\n",
    "                     metric_val_values,\n",
    "                     'g',\n",
    "                     label=validation_text)\n",
    "        \n",
    "        # add title, xlabel, ylabe, and legend\n",
    "        plt.title('Model Metric: {}'.format(metric))\n",
    "        plt.xlabel('Epochs')\n",
    "        plt.ylabel(metric.title())\n",
    "        plt.legend()\n",
    "\n",
    "    plt.show()\n",
    "    \n",
    "plot_keras_history(history)"
   ]
  },
  {
   "cell_type": "markdown",
   "metadata": {},
   "source": [
    "* Save the weights of our model"
   ]
  },
  {
   "cell_type": "code",
   "execution_count": 60,
   "metadata": {},
   "outputs": [],
   "source": [
    "MLP_model.save_weights('MLP_Weights.h5')"
   ]
  },
  {
   "cell_type": "markdown",
   "metadata": {},
   "source": [
    "### Model Evaluation"
   ]
  },
  {
   "cell_type": "code",
   "execution_count": 39,
   "metadata": {},
   "outputs": [
    {
     "name": "stdout",
     "output_type": "stream",
     "text": [
      "193/193 [==============================] - 1s 7ms/step - loss: 0.6195 - mean_absolute_error: 0.1904 - categorical_accuracy: 0.7679\n",
      "\n",
      "Test categorical_crossentropy: 0.6194664835929871\n",
      "\n",
      "Test mean_absolute_error: 0.1904105693101883\n",
      "\n",
      "Test accuracy: 76.786 %\n"
     ]
    }
   ],
   "source": [
    "# evaluate and store on score variable on the TEST DATASET\n",
    "score = MLP_model.evaluate(\n",
    "    X_test,                  # features\n",
    "    Y_test,                  # labels\n",
    "    batch_size=batch_size,   # batch size\n",
    "    verbose=1                # the most extended verbose\n",
    ")\n",
    "\n",
    "print('\\nTest categorical_crossentropy:', score[0])\n",
    "print('\\nTest mean_absolute_error:', score[1])\n",
    "print('\\nTest accuracy: {:.3f} %'.format(score[2]*100))"
   ]
  },
  {
   "cell_type": "markdown",
   "metadata": {},
   "source": [
    "* Confusion matrix of our model"
   ]
  },
  {
   "cell_type": "code",
   "execution_count": 40,
   "metadata": {},
   "outputs": [],
   "source": [
    "from itertools import cycle\n",
    "from typing import List, Tuple\n",
    "import matplotlib.pyplot as plt\n",
    "import seaborn as sns\n",
    "from scipy import interp\n",
    "from sklearn.metrics import confusion_matrix\n",
    "from sklearn.metrics import roc_curve, auc\n",
    "\n",
    "def print_confusion_matrix(y_true,\n",
    "                           y_pred,\n",
    "                           class_names: List[str],\n",
    "                           figsize: Tuple[int, int] = (10, 7),\n",
    "                           fontsize: int = 14) -> pd.DataFrame:\n",
    "    \"\"\"\n",
    "    Prints a confusion matrix, as returned by sklearn.metrics.confusion_matrix, as a heat-map.\n",
    "\n",
    "    For something more extraordinary check this repo:\n",
    "    https://github.com/wcipriano/pretty-print-confusion-matrix\n",
    "\n",
    "\n",
    "    :param class_names:  An ordered list of class names\n",
    "    :param figsize: A 2-long tuple, the first value determining the horizontal size of the outputted\n",
    "                    figure, the second determining the vertical size. Defaults to (10,7).\n",
    "    :param fontsize: Font size for axes labels. Defaults to 14.\n",
    "    :return: The confusion matrix as a dataset\n",
    "    \"\"\"\n",
    "    conf_matrix = confusion_matrix(y_true=y_true, y_pred=y_pred)\n",
    "\n",
    "    df_cm = pd.DataFrame(conf_matrix, index=class_names, columns=class_names)\n",
    "\n",
    "    fig = plt.figure(figsize=figsize)\n",
    "\n",
    "    try:\n",
    "        heatmap = sns.heatmap(df_cm, annot=True, fmt=\"d\")\n",
    "\n",
    "    except ValueError:\n",
    "\n",
    "        raise ValueError(\"Confusion matrix values must be integers.\")\n",
    "\n",
    "    heatmap.yaxis.set_ticklabels(heatmap.yaxis.get_ticklabels(),\n",
    "                                 rotation=0,\n",
    "                                 ha='right',\n",
    "                                 fontsize=fontsize)\n",
    "\n",
    "    heatmap.xaxis.set_ticklabels(heatmap.xaxis.get_ticklabels(),\n",
    "                                 rotation=45,\n",
    "                                 ha='right',\n",
    "                                 fontsize=fontsize)\n",
    "\n",
    "    plt.ylabel('True label')\n",
    "    plt.xlabel('Predicted label')\n",
    "    plt.show()\n",
    "\n",
    "    return df_cm"
   ]
  },
  {
   "cell_type": "code",
   "execution_count": 41,
   "metadata": {},
   "outputs": [
    {
     "data": {
      "image/png": "[encoded data removed]",
      "text/plain": [
       "<Figure size 720x504 with 2 Axes>"
      ]
     },
     "metadata": {
      "needs_background": "light"
     },
     "output_type": "display_data"
    },
    {
     "data": {
      "text/html": [
       "<div>\n",
       "<style scoped>\n",
       "    .dataframe tbody tr th:only-of-type {\n",
       "        vertical-align: middle;\n",
       "    }\n",
       "\n",
       "    .dataframe tbody tr th {\n",
       "        vertical-align: top;\n",
       "    }\n",
       "\n",
       "    .dataframe thead th {\n",
       "        text-align: right;\n",
       "    }\n",
       "</style>\n",
       "<table border=\"1\" class=\"dataframe\">\n",
       "  <thead>\n",
       "    <tr style=\"text-align: right;\">\n",
       "      <th></th>\n",
       "      <th>No Label</th>\n",
       "      <th>Evidence</th>\n",
       "      <th>Claim</th>\n",
       "    </tr>\n",
       "  </thead>\n",
       "  <tbody>\n",
       "    <tr>\n",
       "      <th>No Label</th>\n",
       "      <td>3623</td>\n",
       "      <td>402</td>\n",
       "      <td>233</td>\n",
       "    </tr>\n",
       "    <tr>\n",
       "      <th>Evidence</th>\n",
       "      <td>353</td>\n",
       "      <td>802</td>\n",
       "      <td>79</td>\n",
       "    </tr>\n",
       "    <tr>\n",
       "      <th>Claim</th>\n",
       "      <td>272</td>\n",
       "      <td>94</td>\n",
       "      <td>315</td>\n",
       "    </tr>\n",
       "  </tbody>\n",
       "</table>\n",
       "</div>"
      ],
      "text/plain": [
       "          No Label  Evidence  Claim\n",
       "No Label      3623       402    233\n",
       "Evidence       353       802     79\n",
       "Claim          272        94    315"
      ]
     },
     "execution_count": 41,
     "metadata": {},
     "output_type": "execute_result"
    }
   ],
   "source": [
    "y_test_normal = np.array(y_test).astype('int64')\n",
    "y_pred_class = np.argmax(MLP_model.predict(X_test), axis=-1)\n",
    "class_names = ('No Label', 'Evidence', 'Claim')\n",
    "\n",
    "print_confusion_matrix(y_true=y_test_normal,\n",
    "                       y_pred=y_pred_class,\n",
    "                       class_names=class_names)"
   ]
  },
  {
   "cell_type": "markdown",
   "metadata": {},
   "source": [
    "* classification report of our model"
   ]
  },
  {
   "cell_type": "code",
   "execution_count": 42,
   "metadata": {},
   "outputs": [
    {
     "name": "stdout",
     "output_type": "stream",
     "text": [
      "              precision    recall  f1-score   support\n",
      "\n",
      "           0       0.85      0.85      0.85      4258\n",
      "           1       0.62      0.65      0.63      1234\n",
      "           2       0.50      0.46      0.48       681\n",
      "\n",
      "    accuracy                           0.77      6173\n",
      "   macro avg       0.66      0.65      0.66      6173\n",
      "weighted avg       0.77      0.77      0.77      6173\n",
      "\n"
     ]
    }
   ],
   "source": [
    "from sklearn.metrics import classification_report\n",
    "\n",
    "print(classification_report(y_test_normal, y_pred_class))"
   ]
  },
  {
   "cell_type": "markdown",
   "metadata": {},
   "source": [
    "# CNN"
   ]
  },
  {
   "cell_type": "markdown",
   "metadata": {},
   "source": [
    "### Padding"
   ]
  },
  {
   "cell_type": "code",
   "execution_count": 43,
   "metadata": {},
   "outputs": [],
   "source": [
    "from tensorflow.python.keras.preprocessing.text import Tokenizer\n",
    "\n",
    "# convert our train dataset to sequences\n",
    "x_train = abstracts_tokenizer.texts_to_sequences(x_train)\n",
    "\n",
    "# convert our test dataset to sequences as well\n",
    "x_test = abstracts_tokenizer.texts_to_sequences(x_test)"
   ]
  },
  {
   "cell_type": "code",
   "execution_count": 44,
   "metadata": {},
   "outputs": [
    {
     "data": {
      "text/plain": [
       "38"
      ]
     },
     "execution_count": 44,
     "metadata": {},
     "output_type": "execute_result"
    }
   ],
   "source": [
    "count = []\n",
    "for listElem in x_train:\n",
    "    count.append(len(listElem))\n",
    "\n",
    "maxlen = int(np.percentile(count, q=90))\n",
    "maxlen"
   ]
  },
  {
   "cell_type": "code",
   "execution_count": 45,
   "metadata": {},
   "outputs": [],
   "source": [
    "from tensorflow.python.keras.preprocessing import sequence\n",
    "\n",
    "x_train = sequence.pad_sequences(x_train,\n",
    "                                 maxlen=maxlen,\n",
    "                                 padding='pre', #apply padding at the start of the sentece\n",
    "                                 truncating='pre', #keep only the last 38 words of the sentence\n",
    "                                 value=0.0)\n",
    "\n",
    "x_test = sequence.pad_sequences(x_test,\n",
    "                                maxlen=maxlen,\n",
    "                                 padding='pre',\n",
    "                                 truncating='pre',\n",
    "                                 value=0.0)"
   ]
  },
  {
   "cell_type": "code",
   "execution_count": 46,
   "metadata": {},
   "outputs": [
    {
     "name": "stdout",
     "output_type": "stream",
     "text": [
      "x_train shape: (24689, 38)\n",
      "x_test shape: (6173, 38)\n"
     ]
    }
   ],
   "source": [
    "print('x_train shape: {}'.format(x_train.shape))\n",
    "print('x_test shape: {}'.format(x_test.shape))"
   ]
  },
  {
   "cell_type": "code",
   "execution_count": 47,
   "metadata": {},
   "outputs": [
    {
     "name": "stdout",
     "output_type": "stream",
     "text": [
      "[   0    0    0    0    0    0    0    0    0    0    0    0    0    0\n",
      "    0    0    0    0    0    0    0    0    0    0    0  208  106 2227\n",
      "  575 1373 1040   15  107  699  189 4396    6  397]\n"
     ]
    }
   ],
   "source": [
    "# checking again the first sentence with the padding.\n",
    "print(x_train[0])"
   ]
  },
  {
   "cell_type": "code",
   "execution_count": 48,
   "metadata": {},
   "outputs": [],
   "source": [
    "# network hyperparameters\n",
    "embedding_dims = 50  #each word is represented by a vector of length 50\n",
    "\n",
    "nof_filters = 25 #Number of filters that will be applied during the convolution\n",
    "\n",
    "kernel_size = 3 #3 read 3 sentences in each step, like a trigram\n",
    "\n",
    "hidden_dims = 50 #neurons of a hidden layer"
   ]
  },
  {
   "cell_type": "markdown",
   "metadata": {},
   "source": [
    "## Build Model"
   ]
  },
  {
   "cell_type": "code",
   "execution_count": 50,
   "metadata": {},
   "outputs": [
    {
     "name": "stdout",
     "output_type": "stream",
     "text": [
      "Build model...\n",
      "Model: \"sequential_2\"\n",
      "_________________________________________________________________\n",
      "Layer (type)                 Output Shape              Param #   \n",
      "=================================================================\n",
      "embedding (Embedding)        (None, 38, 50)            500000    \n",
      "_________________________________________________________________\n",
      "dropout_2 (Dropout)          (None, 38, 50)            0         \n",
      "_________________________________________________________________\n",
      "conv1d (Conv1D)              (None, 36, 25)            3775      \n",
      "_________________________________________________________________\n",
      "global_max_pooling1d (Global (None, 25)                0         \n",
      "_________________________________________________________________\n",
      "dense_3 (Dense)              (None, 50)                1300      \n",
      "_________________________________________________________________\n",
      "dropout_3 (Dropout)          (None, 50)                0         \n",
      "_________________________________________________________________\n",
      "activation_3 (Activation)    (None, 50)                0         \n",
      "_________________________________________________________________\n",
      "dense_4 (Dense)              (None, 3)                 153       \n",
      "_________________________________________________________________\n",
      "activation_4 (Activation)    (None, 3)                 0         \n",
      "=================================================================\n",
      "Total params: 505,228\n",
      "Trainable params: 505,228\n",
      "Non-trainable params: 0\n",
      "_________________________________________________________________\n"
     ]
    }
   ],
   "source": [
    "from tensorflow.python.keras.models import Sequential\n",
    "\n",
    "from tensorflow.python.keras.layers import Dense, Dropout, Activation\n",
    "from tensorflow.python.keras.layers import Embedding, Conv1D, GlobalMaxPooling1D\n",
    "\n",
    "print('Build model...')\n",
    "\n",
    "CNN_model = Sequential()\n",
    "\n",
    "# we start off with an efficient embedding layer which maps\n",
    "# our vocab indices into embedding_dims dimensions\n",
    "CNN_model.add(Embedding(max_words,\n",
    "                    embedding_dims,\n",
    "                    input_length=maxlen))\n",
    "\n",
    "CNN_model.add(Dropout(0.5))\n",
    "\n",
    "# we add a Convolution1D, which will learn filters\n",
    "# word group filters of size filter_length:\n",
    "\n",
    "CNN_model.add(Conv1D(nof_filters, \n",
    "                 kernel_size,     #size of each filter\n",
    "                 padding='valid', #we want it to not apply padding\n",
    "                 activation='relu',\n",
    "                 strides=1))      #pass 1 sentence in each step of the convolution\n",
    "\n",
    "CNN_model.add(GlobalMaxPooling1D())\n",
    "\n",
    "CNN_model.add(Dense(hidden_dims))\n",
    "CNN_model.add(Dropout(0.5))\n",
    "CNN_model.add(Activation('relu'))\n",
    "\n",
    "CNN_model.add(Dense(nb_classes))\n",
    "CNN_model.add(Activation('softmax'))\n",
    "\n",
    "CNN_model.summary()"
   ]
  },
  {
   "cell_type": "markdown",
   "metadata": {},
   "source": [
    "* Model compilation"
   ]
  },
  {
   "cell_type": "code",
   "execution_count": 51,
   "metadata": {},
   "outputs": [],
   "source": [
    "CNN_model.compile(\n",
    "    loss='sparse_categorical_crossentropy', #sparse cause we got sparse matrices\n",
    "    optimizer='adam',\n",
    "    metrics=['accuracy'])"
   ]
  },
  {
   "cell_type": "code",
   "execution_count": 52,
   "metadata": {},
   "outputs": [],
   "source": [
    "# fit hyperparameters\n",
    "batch_size = 128\n",
    "epochs = 100"
   ]
  },
  {
   "cell_type": "markdown",
   "metadata": {},
   "source": [
    "* convert our labels to the format we want "
   ]
  },
  {
   "cell_type": "code",
   "execution_count": 53,
   "metadata": {},
   "outputs": [
    {
     "data": {
      "text/plain": [
       "array([1, 0, 0, ..., 0, 0, 0], dtype=int64)"
      ]
     },
     "execution_count": 53,
     "metadata": {},
     "output_type": "execute_result"
    }
   ],
   "source": [
    "Y_train = to_categorical(Y_train, nb_classes)\n",
    "y_train = np.array(y_train).astype('int64')\n",
    "y_train"
   ]
  },
  {
   "cell_type": "code",
   "execution_count": 54,
   "metadata": {},
   "outputs": [
    {
     "data": {
      "text/plain": [
       "array([0, 0, 0, ..., 0, 0, 1], dtype=int64)"
      ]
     },
     "execution_count": 54,
     "metadata": {},
     "output_type": "execute_result"
    }
   ],
   "source": [
    "Y_test = to_categorical(Y_test, nb_classes)\n",
    "y_test = np.array(y_test).astype('int64')\n",
    "y_test"
   ]
  },
  {
   "cell_type": "markdown",
   "metadata": {},
   "source": [
    "* Fir our model"
   ]
  },
  {
   "cell_type": "code",
   "execution_count": 55,
   "metadata": {},
   "outputs": [
    {
     "name": "stdout",
     "output_type": "stream",
     "text": [
      "Epoch 1/100\n",
      "174/174 - 3s - loss: 1.0543 - accuracy: 0.3912 - val_loss: 0.9620 - val_accuracy: 0.5889\n",
      "Epoch 2/100\n",
      "174/174 - 3s - loss: 0.8403 - accuracy: 0.6128 - val_loss: 0.7429 - val_accuracy: 0.6938\n",
      "Epoch 3/100\n",
      "174/174 - 2s - loss: 0.6870 - accuracy: 0.7117 - val_loss: 0.6762 - val_accuracy: 0.7258\n",
      "Epoch 4/100\n",
      "174/174 - 2s - loss: 0.6091 - accuracy: 0.7463 - val_loss: 0.6508 - val_accuracy: 0.7303\n",
      "Epoch 5/100\n",
      "174/174 - 2s - loss: 0.5413 - accuracy: 0.7733 - val_loss: 0.6530 - val_accuracy: 0.7299\n",
      "Epoch 6/100\n",
      "174/174 - 2s - loss: 0.4811 - accuracy: 0.7940 - val_loss: 0.6500 - val_accuracy: 0.7432\n",
      "Epoch 7/100\n",
      "174/174 - 2s - loss: 0.4311 - accuracy: 0.8171 - val_loss: 0.6855 - val_accuracy: 0.7363\n",
      "Epoch 8/100\n",
      "174/174 - 2s - loss: 0.3837 - accuracy: 0.8302 - val_loss: 0.7105 - val_accuracy: 0.7355\n",
      "Epoch 9/100\n",
      "174/174 - 2s - loss: 0.3556 - accuracy: 0.8450 - val_loss: 0.7297 - val_accuracy: 0.7408\n",
      "Epoch 10/100\n",
      "174/174 - 2s - loss: 0.3246 - accuracy: 0.8567 - val_loss: 0.7967 - val_accuracy: 0.7254\n",
      "Epoch 11/100\n",
      "174/174 - 2s - loss: 0.3057 - accuracy: 0.8661 - val_loss: 0.8150 - val_accuracy: 0.7262\n",
      "Restoring model weights from the end of the best epoch.\n",
      "Epoch 00011: early stopping\n"
     ]
    }
   ],
   "source": [
    "history = CNN_model.fit(\n",
    "    x_train,                # features\n",
    "    y_train,                # labels\n",
    "    epochs=epochs,          # numbers of epoch\n",
    "    batch_size=batch_size,  # define batch size\n",
    "    verbose=2,              # the most extended verbose\n",
    "    validation_split = 0.1,   # 90% for train and 10% for validation\n",
    "    callbacks=[callbacks],\n",
    "    class_weight={0:0.48330201 , 1: 1.66693674, 2:3.02116985}\n",
    ")"
   ]
  },
  {
   "cell_type": "code",
   "execution_count": 56,
   "metadata": {},
   "outputs": [
    {
     "data": {
      "image/png": "[encoded data removed]",
      "text/plain": [
       "<Figure size 864x432 with 1 Axes>"
      ]
     },
     "metadata": {
      "needs_background": "light"
     },
     "output_type": "display_data"
    },
    {
     "data": {
      "image/png": "[encoded data removed]",
      "text/plain": [
       "<Figure size 864x432 with 1 Axes>"
      ]
     },
     "metadata": {
      "needs_background": "light"
     },
     "output_type": "display_data"
    }
   ],
   "source": [
    "plot_keras_history(history)"
   ]
  },
  {
   "cell_type": "code",
   "execution_count": 61,
   "metadata": {},
   "outputs": [],
   "source": [
    "CNN_model.save_weights('CNN_Weights.h5')"
   ]
  },
  {
   "cell_type": "code",
   "execution_count": 57,
   "metadata": {},
   "outputs": [
    {
     "name": "stdout",
     "output_type": "stream",
     "text": [
      "49/49 [==============================] - 0s 2ms/step - loss: 0.6361 - accuracy: 0.7450\n",
      "\n",
      "Test categorical_crossentropy: 0.6361156702041626\n",
      "\n",
      "Test accuracy: 0.7450186014175415\n"
     ]
    }
   ],
   "source": [
    "score = CNN_model.evaluate(\n",
    "    x_test,                  # features\n",
    "    y_test,                  # labels\n",
    "    batch_size=batch_size,   # batch size\n",
    "    verbose=1                # the most extended verbose\n",
    ")\n",
    "\n",
    "\n",
    "print('\\nTest categorical_crossentropy:', score[0])\n",
    "print('\\nTest accuracy:', score[1])"
   ]
  },
  {
   "cell_type": "code",
   "execution_count": 58,
   "metadata": {},
   "outputs": [
    {
     "data": {
      "image/png": "[encoded data removed]",
      "text/plain": [
       "<Figure size 720x504 with 2 Axes>"
      ]
     },
     "metadata": {
      "needs_background": "light"
     },
     "output_type": "display_data"
    },
    {
     "data": {
      "text/html": [
       "<div>\n",
       "<style scoped>\n",
       "    .dataframe tbody tr th:only-of-type {\n",
       "        vertical-align: middle;\n",
       "    }\n",
       "\n",
       "    .dataframe tbody tr th {\n",
       "        vertical-align: top;\n",
       "    }\n",
       "\n",
       "    .dataframe thead th {\n",
       "        text-align: right;\n",
       "    }\n",
       "</style>\n",
       "<table border=\"1\" class=\"dataframe\">\n",
       "  <thead>\n",
       "    <tr style=\"text-align: right;\">\n",
       "      <th></th>\n",
       "      <th>No Label</th>\n",
       "      <th>Evidence</th>\n",
       "      <th>Claim</th>\n",
       "    </tr>\n",
       "  </thead>\n",
       "  <tbody>\n",
       "    <tr>\n",
       "      <th>No Label</th>\n",
       "      <td>3417</td>\n",
       "      <td>511</td>\n",
       "      <td>330</td>\n",
       "    </tr>\n",
       "    <tr>\n",
       "      <th>Evidence</th>\n",
       "      <td>284</td>\n",
       "      <td>847</td>\n",
       "      <td>103</td>\n",
       "    </tr>\n",
       "    <tr>\n",
       "      <th>Claim</th>\n",
       "      <td>222</td>\n",
       "      <td>124</td>\n",
       "      <td>335</td>\n",
       "    </tr>\n",
       "  </tbody>\n",
       "</table>\n",
       "</div>"
      ],
      "text/plain": [
       "          No Label  Evidence  Claim\n",
       "No Label      3417       511    330\n",
       "Evidence       284       847    103\n",
       "Claim          222       124    335"
      ]
     },
     "execution_count": 58,
     "metadata": {},
     "output_type": "execute_result"
    }
   ],
   "source": [
    "y_test_normal =y_test\n",
    "y_pred_class = np.argmax(CNN_model.predict(x_test), axis=-1)\n",
    "class_names = ('No Label', 'Evidence', 'Claim')\n",
    "\n",
    "print_confusion_matrix(y_true=y_test_normal,\n",
    "                       y_pred=y_pred_class,\n",
    "                       class_names=class_names)"
   ]
  },
  {
   "cell_type": "code",
   "execution_count": 59,
   "metadata": {},
   "outputs": [
    {
     "name": "stdout",
     "output_type": "stream",
     "text": [
      "              precision    recall  f1-score   support\n",
      "\n",
      "           0       0.87      0.80      0.84      4258\n",
      "           1       0.57      0.69      0.62      1234\n",
      "           2       0.44      0.49      0.46       681\n",
      "\n",
      "    accuracy                           0.75      6173\n",
      "   macro avg       0.63      0.66      0.64      6173\n",
      "weighted avg       0.76      0.75      0.75      6173\n",
      "\n"
     ]
    }
   ],
   "source": [
    "from sklearn.metrics import classification_report\n",
    "\n",
    "print(classification_report(y_test_normal, y_pred_class))"
   ]
  }
 ],
 "metadata": {
  "kernelspec": {
   "display_name": "Python 3",
   "language": "python",
   "name": "python3"
  },
  "language_info": {
   "codemirror_mode": {
    "name": "ipython",
    "version": 3
   },
   "file_extension": ".py",
   "mimetype": "text/x-python",
   "name": "python",
   "nbconvert_exporter": "python",
   "pygments_lexer": "ipython3",
   "version": "3.8.3"
  }
 },
 "nbformat": 4,
 "nbformat_minor": 4
}
